{
 "cells": [
  {
   "cell_type": "code",
   "execution_count": 97,
   "id": "941d7cff-8c33-42b1-b161-766a51fc191a",
   "metadata": {
    "id": "941d7cff-8c33-42b1-b161-766a51fc191a"
   },
   "outputs": [],
   "source": [
    "# import library\n",
    "from tensorflow.keras.layers import Dense, LeakyReLU, Dropout, Input, Concatenate\n",
    "from sklearn.metrics import mean_squared_error, mean_absolute_error\n",
    "from sklearn.metrics.pairwise import cosine_similarity\n",
    "from tensorflow.keras.models import load_model\n",
    "from tensorflow.keras.models import Sequential\n",
    "from sklearn.preprocessing import LabelEncoder\n",
    "from tensorflow.keras.optimizers import Adam\n",
    "from tensorflow.keras.models import Model\n",
    "from keras.utils import to_categorical\n",
    "import matplotlib.pyplot as plt\n",
    "import pandas as pd\n",
    "import numpy as np"
   ]
  },
  {
   "cell_type": "code",
   "execution_count": 98,
   "id": "Du_F2jUSrvfn",
   "metadata": {
    "colab": {
     "base_uri": "https://localhost:8080/"
    },
    "id": "Du_F2jUSrvfn",
    "outputId": "c87343f1-ad26-49c3-ff24-9153de5c8b05"
   },
   "outputs": [
    {
     "name": "stdout",
     "output_type": "stream",
     "text": [
      "Drive already mounted at /content/drive; to attempt to forcibly remount, call drive.mount(\"/content/drive\", force_remount=True).\n"
     ]
    }
   ],
   "source": [
    "from google.colab import drive\n",
    "drive.mount('/content/drive')"
   ]
  },
  {
   "cell_type": "code",
   "execution_count": 99,
   "id": "_DJND22Kr_lV",
   "metadata": {
    "id": "_DJND22Kr_lV"
   },
   "outputs": [],
   "source": [
    "filePath = '/content/drive/MyDrive/riset-gamelan/ganLengkap.xlsx'"
   ]
  },
  {
   "cell_type": "code",
   "execution_count": 100,
   "id": "ckNCoOVzDWgi",
   "metadata": {
    "id": "ckNCoOVzDWgi"
   },
   "outputs": [],
   "source": [
    "# filePath = 'ganLengkap.xlsx'\n",
    "dataTrain = pd.read_excel(filePath, sheet_name='databinerSemua')\n",
    "dataTesting = pd.read_excel(filePath, sheet_name='dataTesting')"
   ]
  },
  {
   "cell_type": "code",
   "execution_count": 101,
   "id": "74e8b28f-ab56-42c4-b751-655f6b68ee13",
   "metadata": {
    "id": "74e8b28f-ab56-42c4-b751-655f6b68ee13"
   },
   "outputs": [],
   "source": [
    "def readData(df, start, jumlahData):\n",
    "    columns = df[2:, start:]\n",
    "    return [columns[:, i:i+1] for i in range(0, jumlahData)]"
   ]
  },
  {
   "cell_type": "code",
   "execution_count": 102,
   "id": "9b133727",
   "metadata": {
    "id": "9b133727"
   },
   "outputs": [],
   "source": [
    "# dummyData = dataTrain.to_numpy()\n",
    "\n",
    "# X_Note1 = dummyData[:7, 8:9]\n",
    "# X_Note4 = dummyData[:7, 11:12]"
   ]
  },
  {
   "cell_type": "code",
   "execution_count": 103,
   "id": "a3e69c21",
   "metadata": {
    "id": "a3e69c21"
   },
   "outputs": [],
   "source": [
    "# print(X_Note1, X_Note4)"
   ]
  },
  {
   "cell_type": "code",
   "execution_count": 104,
   "id": "ac1a85b5-cbad-4686-92c6-e160e455b110",
   "metadata": {
    "id": "ac1a85b5-cbad-4686-92c6-e160e455b110"
   },
   "outputs": [],
   "source": [
    "def getData(df):\n",
    "    dataDict = {}\n",
    "    # data ganLengkap.xlsx\n",
    "    ranges = {\n",
    "        'X': (1, 11),\n",
    "        'Y_kenong': (12, 8),\n",
    "        'Y_kethuk': (20, 8),\n",
    "        'Y_kempul': (28, 4),\n",
    "        'Y_gong': (32, 2), # terdiri dari gong kecil dan gong besar\n",
    "        'Y_kempyang': (34, 8),\n",
    "        'Y_bb': (42, 32),\n",
    "        'Y_bp': (74, 64),\n",
    "        'Y_peking': (138, 32)\n",
    "    }\n",
    "\n",
    "    for name, (start, jumlahData) in ranges.items():\n",
    "        dataDict[name] = readData(df, start, jumlahData)\n",
    "\n",
    "    return dataDict"
   ]
  },
  {
   "cell_type": "code",
   "execution_count": 105,
   "id": "134197cf-410f-4f2d-a3b3-370ca45cd976",
   "metadata": {
    "id": "134197cf-410f-4f2d-a3b3-370ca45cd976"
   },
   "outputs": [],
   "source": [
    "def encodeOneHot(data):\n",
    "    encoder = LabelEncoder()\n",
    "    data = data.ravel()\n",
    "    encodedData = encoder.fit_transform(data)\n",
    "    oneHotLabels = to_categorical(encodedData)\n",
    "    return oneHotLabels, encoder"
   ]
  },
  {
   "cell_type": "code",
   "execution_count": 106,
   "id": "ff565a9c-8892-4f96-a576-fff4f6ce3a7a",
   "metadata": {
    "id": "ff565a9c-8892-4f96-a576-fff4f6ce3a7a"
   },
   "outputs": [],
   "source": [
    "def getEncodeOneHot(data_dict):\n",
    "    encodedData = {}\n",
    "    encoders = {}\n",
    "\n",
    "    keys = {\n",
    "        \"X\": 11,\n",
    "        \"Y_kenong\": 8,\n",
    "        \"Y_kethuk\": 8,\n",
    "        \"Y_kempul\": 4, # dataGamelan.xlsx 5\n",
    "        \"Y_gong\": 2,\n",
    "        \"Y_kempyang\": 8,\n",
    "        \"Y_bb\": 32,\n",
    "        \"Y_bp\": 64,\n",
    "        \"Y_peking\": 32\n",
    "    }\n",
    "\n",
    "    # data yang harus diubah ke dalam string\n",
    "    convertToStr = {\n",
    "        \"X\": [7, 8, 9, 10],\n",
    "        \"Y_bb\": list(range(32)),\n",
    "        \"Y_bp\": list(range(64)),\n",
    "        \"Y_peking\": list(range(32))\n",
    "    }\n",
    "\n",
    "    for key, count in keys.items():\n",
    "        encodedData[key] = []\n",
    "        encoders[key] = []\n",
    "\n",
    "        for i in range(count):\n",
    "            data = data_dict[key][i]\n",
    "\n",
    "            # convert ke string\n",
    "            if key in convertToStr and i in convertToStr[key]:\n",
    "                data = data.astype('str')\n",
    "\n",
    "            oneHotEncoded, encoder = encodeOneHot(data)\n",
    "            encodedData[key].append(oneHotEncoded)\n",
    "            encoders[key].append(encoder)\n",
    "\n",
    "    return encodedData, encoders"
   ]
  },
  {
   "cell_type": "code",
   "execution_count": 107,
   "id": "3362491a-f35b-4d43-8a97-1d91d3141bd3",
   "metadata": {
    "id": "3362491a-f35b-4d43-8a97-1d91d3141bd3"
   },
   "outputs": [],
   "source": [
    "dataTrain= dataTrain.to_numpy()\n",
    "dataDictTrain = getData(dataTrain)\n",
    "encodedDataTrain, encodersTrain = getEncodeOneHot(dataDictTrain)\n",
    "\n",
    "dataTesting= dataTesting.to_numpy()\n",
    "dataDictTest = getData(dataTesting)\n",
    "encodedDataTest, encodersTest = getEncodeOneHot(dataDictTest)"
   ]
  },
  {
   "cell_type": "code",
   "execution_count": 108,
   "id": "4ebb76c2-3a3c-4457-af64-74f963e0eb0d",
   "metadata": {
    "colab": {
     "base_uri": "https://localhost:8080/"
    },
    "id": "4ebb76c2-3a3c-4457-af64-74f963e0eb0d",
    "outputId": "0e1a4863-928c-407f-c7f6-0f6b4d23f950"
   },
   "outputs": [
    {
     "data": {
      "text/plain": [
       "array([[5],\n",
       "       [3],\n",
       "       [3],\n",
       "       [5],\n",
       "       [2],\n",
       "       [6],\n",
       "       [5]], dtype=object)"
      ]
     },
     "execution_count": 108,
     "metadata": {},
     "output_type": "execute_result"
    }
   ],
   "source": [
    "# contoh data X Note 4\n",
    "dataDictTrain[\"X\"][10][:7]"
   ]
  },
  {
   "cell_type": "code",
   "execution_count": 109,
   "id": "10284dc5-0a2e-4232-9162-caaf38ecb595",
   "metadata": {
    "colab": {
     "base_uri": "https://localhost:8080/"
    },
    "id": "10284dc5-0a2e-4232-9162-caaf38ecb595",
    "outputId": "3c07dcc0-470c-4ea7-fa59-1379689e3d1a"
   },
   "outputs": [
    {
     "data": {
      "text/plain": [
       "array([[0., 0., 0., 0., 0., 0., 0., 0., 0., 1., 0., 0., 0., 0., 0.],\n",
       "       [0., 0., 0., 0., 0., 1., 0., 0., 0., 0., 0., 0., 0., 0., 0.],\n",
       "       [0., 0., 0., 0., 0., 1., 0., 0., 0., 0., 0., 0., 0., 0., 0.],\n",
       "       [0., 0., 0., 0., 0., 0., 0., 0., 0., 1., 0., 0., 0., 0., 0.],\n",
       "       [0., 0., 0., 1., 0., 0., 0., 0., 0., 0., 0., 0., 0., 0., 0.],\n",
       "       [0., 0., 0., 0., 0., 0., 0., 0., 0., 0., 0., 1., 0., 0., 0.],\n",
       "       [0., 0., 0., 0., 0., 0., 0., 0., 0., 1., 0., 0., 0., 0., 0.]])"
      ]
     },
     "execution_count": 109,
     "metadata": {},
     "output_type": "execute_result"
    }
   ],
   "source": [
    "# contoh data one hot X Note 4\n",
    "encodedDataTrain[\"X\"][10][:7]"
   ]
  },
  {
   "cell_type": "code",
   "execution_count": 110,
   "id": "8bc9d046-460c-4e86-aa2e-eefdcbc6a7a0",
   "metadata": {
    "id": "8bc9d046-460c-4e86-aa2e-eefdcbc6a7a0"
   },
   "outputs": [],
   "source": [
    "# kenong\n",
    "outputTrainKenong1 = encodedDataTrain[\"Y_kenong\"][0].shape[1]\n",
    "outputTrainKenong2 = encodedDataTrain[\"Y_kenong\"][1].shape[1]\n",
    "outputTrainKenong3 = encodedDataTrain[\"Y_kenong\"][2].shape[1]\n",
    "outputTrainKenong4 = encodedDataTrain[\"Y_kenong\"][3].shape[1]\n",
    "outputTrainKenong5 = encodedDataTrain[\"Y_kenong\"][4].shape[1]\n",
    "outputTrainKenong6 = encodedDataTrain[\"Y_kenong\"][5].shape[1]\n",
    "outputTrainKenong7 = encodedDataTrain[\"Y_kenong\"][6].shape[1]\n",
    "outputTrainKenong8 = encodedDataTrain[\"Y_kenong\"][7].shape[1]\n",
    "\n",
    "# kethuk\n",
    "outputTrainKethuk1 = encodedDataTrain[\"Y_kethuk\"][0].shape[1]\n",
    "outputTrainKethuk2 = encodedDataTrain[\"Y_kethuk\"][1].shape[1]\n",
    "outputTrainKethuk3 = encodedDataTrain[\"Y_kethuk\"][2].shape[1]\n",
    "outputTrainKethuk4 = encodedDataTrain[\"Y_kethuk\"][3].shape[1]\n",
    "outputTrainKethuk5 = encodedDataTrain[\"Y_kethuk\"][4].shape[1]\n",
    "outputTrainKethuk6 = encodedDataTrain[\"Y_kethuk\"][5].shape[1]\n",
    "outputTrainKethuk7 = encodedDataTrain[\"Y_kethuk\"][6].shape[1]\n",
    "outputTrainKethuk8 = encodedDataTrain[\"Y_kethuk\"][7].shape[1]\n",
    "\n",
    "\n",
    "# kempul\n",
    "outputTrainKempul1 = encodedDataTrain[\"Y_kempul\"][0].shape[1]\n",
    "outputTrainKempul2 = encodedDataTrain[\"Y_kempul\"][1].shape[1]\n",
    "outputTrainKempul3 = encodedDataTrain[\"Y_kempul\"][2].shape[1]\n",
    "outputTrainKempul4 = encodedDataTrain[\"Y_kempul\"][3].shape[1]\n",
    "# outputTrainKempul5 = encodedDataTrain[\"Y_kempul\"][4].shape[1]\n",
    "\n",
    "# gong\n",
    "outputTrainGK = encodedDataTrain[\"Y_gong\"][0].shape[1]\n",
    "outputTrainGB = encodedDataTrain[\"Y_gong\"][1].shape[1]\n",
    "\n",
    "# kempyang\n",
    "outputTrainKempyang1 = encodedDataTrain[\"Y_kempyang\"][0].shape[1]\n",
    "outputTrainKempyang2 = encodedDataTrain[\"Y_kempyang\"][1].shape[1]\n",
    "outputTrainKempyang3 = encodedDataTrain[\"Y_kempyang\"][2].shape[1]\n",
    "outputTrainKempyang4 = encodedDataTrain[\"Y_kempyang\"][3].shape[1]\n",
    "outputTrainKempyang5 = encodedDataTrain[\"Y_kempyang\"][4].shape[1]\n",
    "outputTrainKempyang6 = encodedDataTrain[\"Y_kempyang\"][5].shape[1]\n",
    "outputTrainKempyang7 = encodedDataTrain[\"Y_kempyang\"][6].shape[1]\n",
    "outputTrainKempyang8 = encodedDataTrain[\"Y_kempyang\"][7].shape[1]"
   ]
  },
  {
   "cell_type": "code",
   "execution_count": 111,
   "id": "23c8b6ab-da5e-418e-9b29-034d81f2d16b",
   "metadata": {
    "id": "23c8b6ab-da5e-418e-9b29-034d81f2d16b"
   },
   "outputs": [],
   "source": [
    "# outputTrain bonang barung\n",
    "outputTrainBarung1 = encodedDataTrain[\"Y_bb\"][0].shape[1]\n",
    "# ....\n",
    "outputTrainBarung32 = encodedDataTrain[\"Y_bb\"][31].shape[1]"
   ]
  },
  {
   "cell_type": "code",
   "execution_count": 112,
   "id": "fb89b664-de55-41df-a850-473588f1e3c0",
   "metadata": {
    "id": "fb89b664-de55-41df-a850-473588f1e3c0"
   },
   "outputs": [],
   "source": [
    "# outputTrain bonang penerus\n",
    "outputTrainPenerus1 = encodedDataTrain[\"Y_bp\"][0].shape[1]\n",
    "# ...\n",
    "outputTrainPenerus64 = encodedDataTrain[\"Y_bp\"][63].shape[1]"
   ]
  },
  {
   "cell_type": "code",
   "execution_count": 113,
   "id": "07aa9357-763a-4a91-8bf9-3831bd1d144e",
   "metadata": {
    "id": "07aa9357-763a-4a91-8bf9-3831bd1d144e"
   },
   "outputs": [],
   "source": [
    "# outputTrain peking\n",
    "outputTrainPeking1 = encodedDataTrain[\"Y_peking\"][0].shape[1]\n",
    "# ...\n",
    "outputTrainPeking32 = encodedDataTrain[\"Y_peking\"][0].shape[1]"
   ]
  },
  {
   "cell_type": "code",
   "execution_count": 114,
   "id": "bcf4e28b-24ad-4158-9a4a-a1437fdaad23",
   "metadata": {
    "id": "bcf4e28b-24ad-4158-9a4a-a1437fdaad23"
   },
   "outputs": [],
   "source": [
    "def buildGenerator(latent_dim, conditional_dim, output_dim):\n",
    "    latent_input = Input(shape=(latent_dim,))\n",
    "    conditional_input = Input(shape=(conditional_dim,))\n",
    "    merged_input = Concatenate()([latent_input, conditional_input])\n",
    "\n",
    "    x = Dense(128)(merged_input)\n",
    "    x = LeakyReLU(alpha=0.2)(x)\n",
    "    x = Dense(256)(x)\n",
    "    x = LeakyReLU(alpha=0.2)(x)\n",
    "    x = Dense(512)(x)\n",
    "    x = LeakyReLU(alpha=0.2)(x)\n",
    "    output = Dense(output_dim, activation='tanh')(x)\n",
    "\n",
    "    model = Model([latent_input, conditional_input], output)\n",
    "    return model"
   ]
  },
  {
   "cell_type": "code",
   "execution_count": 115,
   "id": "90ef594e-f465-4b1b-a718-f265d3575e65",
   "metadata": {
    "id": "90ef594e-f465-4b1b-a718-f265d3575e65"
   },
   "outputs": [],
   "source": [
    "def buildDiscriminator(input_dim):\n",
    "    model = Sequential()\n",
    "    model.add(Dense(512, input_shape=(input_dim,)))\n",
    "    model.add(LeakyReLU(alpha=0.2))\n",
    "    model.add(Dropout(0.4))\n",
    "    model.add(Dense(256))\n",
    "    model.add(LeakyReLU(alpha=0.2))\n",
    "    model.add(Dropout(0.4))\n",
    "    model.add(Dense(1, activation='sigmoid'))\n",
    "    return model"
   ]
  },
  {
   "cell_type": "code",
   "execution_count": 116,
   "id": "c8d876d6-ab74-40d0-aa39-5a70faf6a7f6",
   "metadata": {
    "id": "c8d876d6-ab74-40d0-aa39-5a70faf6a7f6"
   },
   "outputs": [],
   "source": [
    "def buildGan(generator, discriminator):\n",
    "    latent_input = Input(shape=(latent_dim,))\n",
    "    conditional_input = Input(shape=(conditional_dim,))\n",
    "    generator_output = generator([latent_input, conditional_input])\n",
    "    discriminator_output = discriminator(generator_output)\n",
    "    model = Model([latent_input, conditional_input], discriminator_output)\n",
    "    return model\n"
   ]
  },
  {
   "cell_type": "code",
   "execution_count": 117,
   "id": "4b866dc7-9061-4c40-8c71-4584aabab244",
   "metadata": {
    "id": "4b866dc7-9061-4c40-8c71-4584aabab244"
   },
   "outputs": [],
   "source": [
    "def trainGan(gan, generator, discriminator, X, Y, latent_dim, epochs=1000, batch_size=64):\n",
    "    half_batch = int(batch_size / 2)\n",
    "\n",
    "    d_losses_real = []\n",
    "    d_losses_fake = []\n",
    "    g_losses = []\n",
    "\n",
    "    for epoch in range(epochs):\n",
    "        # Mini-batch di epoch\n",
    "        for _ in range(int(X.shape[0] / batch_size)):\n",
    "            # Train discriminator real data\n",
    "            idx = np.random.randint(0, X.shape[0], half_batch)\n",
    "            real_X = X[idx]\n",
    "            real_Y = Y[idx]\n",
    "\n",
    "            noise = np.random.normal(0, 1, (half_batch, latent_dim))\n",
    "            fake_Y = generator.predict([noise, real_X])\n",
    "\n",
    "            # Train real data\n",
    "            d_loss_real = discriminator.train_on_batch(real_Y, np.ones((half_batch, 1)))\n",
    "            # Train fake data\n",
    "            d_loss_fake = discriminator.train_on_batch(fake_Y, np.zeros((half_batch, 1)))\n",
    "\n",
    "            d_losses_real.append(d_loss_real)\n",
    "            d_losses_fake.append(d_loss_fake)\n",
    "\n",
    "            # Train generator\n",
    "            noise = np.random.normal(0, 1, (batch_size, latent_dim))\n",
    "            sampled_X = X[np.random.randint(0, X.shape[0], batch_size)]\n",
    "            valid_y = np.ones((batch_size, 1))\n",
    "\n",
    "            g_loss = gan.train_on_batch([noise, sampled_X], valid_y)\n",
    "            g_losses.append(g_loss)\n",
    "\n",
    "        if epoch % 100 == 0:\n",
    "            print(f\"{epoch} [D loss real: {d_loss_real[0]}, D loss fake: {d_loss_fake[0]}, acc real: {100 * d_loss_real[1]}%, acc fake: {100 * d_loss_fake[1]}%] [G loss: {g_loss}]\")\n",
    "\n",
    "    return d_losses_real, d_losses_fake, g_losses\n"
   ]
  },
  {
   "cell_type": "code",
   "execution_count": 118,
   "id": "OSGROZqaFaun",
   "metadata": {
    "id": "OSGROZqaFaun"
   },
   "outputs": [],
   "source": [
    "def inverseOneHot(one_hot_encoded, encoder):\n",
    "    # Mengambil indeks kelas dari one-hot encoding\n",
    "    index = np.argmax(one_hot_encoded)\n",
    "    # Mengembalikan nilai asli dari indeks tersebut\n",
    "    originalValue = encoder.inverse_transform([index])\n",
    "    return originalValue[0]\n",
    "\n",
    "def decodeData(encoded_data, encoders, instrument_indices, indexAt=None):\n",
    "    startIndeks = 0\n",
    "    labelsDecoded = {}\n",
    "\n",
    "    if indexAt is not None:\n",
    "        encoded_data = encoded_data[indexAt]\n",
    "\n",
    "    for instrument, count in instrument_indices.items():\n",
    "        labelsDecoded[instrument] = []\n",
    "        for i in range(count):\n",
    "            endIndeks = startIndeks + len(encoders[instrument][i].classes_)\n",
    "            oneHotPart = encoded_data[startIndeks:endIndeks]\n",
    "\n",
    "            # Decode the one-hot encoded part into the original value\n",
    "            originalValue = inverseOneHot(oneHotPart, encoders[instrument][i])\n",
    "            labelsDecoded[instrument].append(originalValue)\n",
    "\n",
    "            startIndeks = endIndeks  # Update start index for the next instrument\n",
    "\n",
    "    return labelsDecoded\n"
   ]
  },
  {
   "cell_type": "code",
   "execution_count": 119,
   "id": "0c69afcc-5551-4e4b-9d07-25d85c4163c6",
   "metadata": {
    "id": "0c69afcc-5551-4e4b-9d07-25d85c4163c6"
   },
   "outputs": [],
   "source": [
    "# def accuracyGan(real_data, generated_data): return sum(values[i] == generated_data[key][i] for key, values in real_data.items() for i in range(len(values))) / sum(len(values) for values in real_data.values())"
   ]
  },
  {
   "cell_type": "code",
   "execution_count": 120,
   "id": "c7d51550-d31d-4801-b13f-a06302f83945",
   "metadata": {
    "id": "c7d51550-d31d-4801-b13f-a06302f83945"
   },
   "outputs": [],
   "source": [
    "XTrain = np.concatenate((encodedDataTrain[\"X\"][0], encodedDataTrain[\"X\"][1], encodedDataTrain[\"X\"][2], encodedDataTrain[\"X\"][3], encodedDataTrain[\"X\"][4], encodedDataTrain[\"X\"][5], encodedDataTrain[\"X\"][6], encodedDataTrain[\"X\"][7], encodedDataTrain[\"X\"][8], encodedDataTrain[\"X\"][9], encodedDataTrain[\"X\"][10]), axis=1)"
   ]
  },
  {
   "cell_type": "code",
   "execution_count": 121,
   "id": "57318a4b-eb95-4f47-a5c3-8ab6b6be4942",
   "metadata": {
    "colab": {
     "base_uri": "https://localhost:8080/"
    },
    "id": "57318a4b-eb95-4f47-a5c3-8ab6b6be4942",
    "outputId": "c1796520-7a3c-449d-a8a1-fd545035033c"
   },
   "outputs": [
    {
     "data": {
      "text/plain": [
       "98"
      ]
     },
     "execution_count": 121,
     "metadata": {},
     "output_type": "execute_result"
    }
   ],
   "source": [
    "XTrain.shape[1]"
   ]
  },
  {
   "cell_type": "code",
   "execution_count": 122,
   "id": "76557612-0746-4af9-9487-c065b0cc4d66",
   "metadata": {
    "id": "76557612-0746-4af9-9487-c065b0cc4d66"
   },
   "outputs": [],
   "source": [
    "YTrain = np.concatenate((\n",
    "    encodedDataTrain[\"Y_kenong\"][0], encodedDataTrain[\"Y_kenong\"][1], encodedDataTrain[\"Y_kenong\"][2], encodedDataTrain[\"Y_kenong\"][3], encodedDataTrain[\"Y_kenong\"][4], encodedDataTrain[\"Y_kenong\"][5], encodedDataTrain[\"Y_kenong\"][6], encodedDataTrain[\"Y_kenong\"][7],\n",
    "    encodedDataTrain[\"Y_kethuk\"][0], encodedDataTrain[\"Y_kethuk\"][1], encodedDataTrain[\"Y_kethuk\"][2], encodedDataTrain[\"Y_kethuk\"][3], encodedDataTrain[\"Y_kethuk\"][4], encodedDataTrain[\"Y_kethuk\"][5], encodedDataTrain[\"Y_kethuk\"][6], encodedDataTrain[\"Y_kethuk\"][7],\n",
    "    encodedDataTrain[\"Y_kempul\"][0], encodedDataTrain[\"Y_kempul\"][1], encodedDataTrain[\"Y_kempul\"][2], encodedDataTrain[\"Y_kempul\"][3],\n",
    "    encodedDataTrain[\"Y_gong\"][0], encodedDataTrain[\"Y_gong\"][1],\n",
    "    encodedDataTrain[\"Y_kempyang\"][0], encodedDataTrain[\"Y_kempyang\"][1], encodedDataTrain[\"Y_kempyang\"][2], encodedDataTrain[\"Y_kempyang\"][3], encodedDataTrain[\"Y_kempyang\"][4], encodedDataTrain[\"Y_kempyang\"][5], encodedDataTrain[\"Y_kempyang\"][6], encodedDataTrain[\"Y_kempyang\"][7],\n",
    "    encodedDataTrain[\"Y_bb\"][0], encodedDataTrain[\"Y_bb\"][1], encodedDataTrain[\"Y_bb\"][2], encodedDataTrain[\"Y_bb\"][3], encodedDataTrain[\"Y_bb\"][4], encodedDataTrain[\"Y_bb\"][5], encodedDataTrain[\"Y_bb\"][6], encodedDataTrain[\"Y_bb\"][7], encodedDataTrain[\"Y_bb\"][8], encodedDataTrain[\"Y_bb\"][9], encodedDataTrain[\"Y_bb\"][10], encodedDataTrain[\"Y_bb\"][11], encodedDataTrain[\"Y_bb\"][12], encodedDataTrain[\"Y_bb\"][13], encodedDataTrain[\"Y_bb\"][14], encodedDataTrain[\"Y_bb\"][15], encodedDataTrain[\"Y_bb\"][16],\n",
    "    encodedDataTrain[\"Y_bb\"][17], encodedDataTrain[\"Y_bb\"][18], encodedDataTrain[\"Y_bb\"][19], encodedDataTrain[\"Y_bb\"][20], encodedDataTrain[\"Y_bb\"][21], encodedDataTrain[\"Y_bb\"][22], encodedDataTrain[\"Y_bb\"][23], encodedDataTrain[\"Y_bb\"][24], encodedDataTrain[\"Y_bb\"][25], encodedDataTrain[\"Y_bb\"][26], encodedDataTrain[\"Y_bb\"][27], encodedDataTrain[\"Y_bb\"][28], encodedDataTrain[\"Y_bb\"][29], encodedDataTrain[\"Y_bb\"][30], encodedDataTrain[\"Y_bb\"][31],\n",
    "    encodedDataTrain[\"Y_bp\"][0], encodedDataTrain[\"Y_bp\"][1], encodedDataTrain[\"Y_bp\"][2], encodedDataTrain[\"Y_bp\"][3], encodedDataTrain[\"Y_bp\"][4], encodedDataTrain[\"Y_bp\"][5], encodedDataTrain[\"Y_bp\"][6], encodedDataTrain[\"Y_bp\"][7], encodedDataTrain[\"Y_bp\"][8], encodedDataTrain[\"Y_bp\"][9], encodedDataTrain[\"Y_bp\"][10], encodedDataTrain[\"Y_bp\"][11], encodedDataTrain[\"Y_bp\"][12], encodedDataTrain[\"Y_bp\"][13], encodedDataTrain[\"Y_bp\"][14], encodedDataTrain[\"Y_bp\"][15], encodedDataTrain[\"Y_bp\"][16],\n",
    "    encodedDataTrain[\"Y_bp\"][17], encodedDataTrain[\"Y_bp\"][18], encodedDataTrain[\"Y_bp\"][19], encodedDataTrain[\"Y_bp\"][20], encodedDataTrain[\"Y_bp\"][21], encodedDataTrain[\"Y_bp\"][22], encodedDataTrain[\"Y_bp\"][23], encodedDataTrain[\"Y_bp\"][24], encodedDataTrain[\"Y_bp\"][25], encodedDataTrain[\"Y_bp\"][26], encodedDataTrain[\"Y_bp\"][27], encodedDataTrain[\"Y_bp\"][28], encodedDataTrain[\"Y_bp\"][29], encodedDataTrain[\"Y_bp\"][30], encodedDataTrain[\"Y_bp\"][31], encodedDataTrain[\"Y_bp\"][32],\n",
    "    encodedDataTrain[\"Y_bp\"][33], encodedDataTrain[\"Y_bp\"][34], encodedDataTrain[\"Y_bp\"][35], encodedDataTrain[\"Y_bp\"][36], encodedDataTrain[\"Y_bp\"][37], encodedDataTrain[\"Y_bp\"][38], encodedDataTrain[\"Y_bp\"][39], encodedDataTrain[\"Y_bp\"][40], encodedDataTrain[\"Y_bp\"][41], encodedDataTrain[\"Y_bp\"][42], encodedDataTrain[\"Y_bp\"][43], encodedDataTrain[\"Y_bp\"][44], encodedDataTrain[\"Y_bp\"][45], encodedDataTrain[\"Y_bp\"][46], encodedDataTrain[\"Y_bp\"][47], encodedDataTrain[\"Y_bp\"][48],\n",
    "    encodedDataTrain[\"Y_bp\"][49], encodedDataTrain[\"Y_bp\"][50], encodedDataTrain[\"Y_bp\"][51], encodedDataTrain[\"Y_bp\"][52], encodedDataTrain[\"Y_bp\"][53], encodedDataTrain[\"Y_bp\"][54], encodedDataTrain[\"Y_bp\"][55], encodedDataTrain[\"Y_bp\"][56], encodedDataTrain[\"Y_bp\"][57], encodedDataTrain[\"Y_bp\"][58], encodedDataTrain[\"Y_bp\"][59], encodedDataTrain[\"Y_bp\"][60], encodedDataTrain[\"Y_bp\"][61], encodedDataTrain[\"Y_bp\"][62], encodedDataTrain[\"Y_bp\"][63],\n",
    "    encodedDataTrain[\"Y_peking\"][0], encodedDataTrain[\"Y_peking\"][1], encodedDataTrain[\"Y_peking\"][2], encodedDataTrain[\"Y_peking\"][3], encodedDataTrain[\"Y_peking\"][4], encodedDataTrain[\"Y_peking\"][5], encodedDataTrain[\"Y_peking\"][6], encodedDataTrain[\"Y_peking\"][7], encodedDataTrain[\"Y_peking\"][8], encodedDataTrain[\"Y_peking\"][9], encodedDataTrain[\"Y_peking\"][10], encodedDataTrain[\"Y_peking\"][11], encodedDataTrain[\"Y_peking\"][12], encodedDataTrain[\"Y_peking\"][13], encodedDataTrain[\"Y_peking\"][14], encodedDataTrain[\"Y_peking\"][15], encodedDataTrain[\"Y_peking\"][16],\n",
    "    encodedDataTrain[\"Y_peking\"][17], encodedDataTrain[\"Y_peking\"][18], encodedDataTrain[\"Y_peking\"][19], encodedDataTrain[\"Y_peking\"][20], encodedDataTrain[\"Y_peking\"][21], encodedDataTrain[\"Y_peking\"][22], encodedDataTrain[\"Y_peking\"][23], encodedDataTrain[\"Y_peking\"][24], encodedDataTrain[\"Y_peking\"][25], encodedDataTrain[\"Y_peking\"][26], encodedDataTrain[\"Y_peking\"][27], encodedDataTrain[\"Y_peking\"][28], encodedDataTrain[\"Y_peking\"][29], encodedDataTrain[\"Y_peking\"][30], encodedDataTrain[\"Y_peking\"][31]\n",
    "), axis=1)"
   ]
  },
  {
   "cell_type": "code",
   "execution_count": 123,
   "id": "a9e24f03-948c-4637-8cfa-72e795fe7a55",
   "metadata": {
    "colab": {
     "base_uri": "https://localhost:8080/"
    },
    "id": "a9e24f03-948c-4637-8cfa-72e795fe7a55",
    "outputId": "c65f9fea-6d74-49a2-8ac9-4de5ca20c84e"
   },
   "outputs": [
    {
     "data": {
      "text/plain": [
       "1216"
      ]
     },
     "execution_count": 123,
     "metadata": {},
     "output_type": "execute_result"
    }
   ],
   "source": [
    "YTrain.shape[1]"
   ]
  },
  {
   "cell_type": "code",
   "execution_count": 124,
   "id": "fdda9f05-424a-4c32-94e9-24c5f2c9bb09",
   "metadata": {
    "colab": {
     "base_uri": "https://localhost:8080/"
    },
    "id": "fdda9f05-424a-4c32-94e9-24c5f2c9bb09",
    "outputId": "976c16f4-7f70-4c1f-9111-c3cbd8c88d5a"
   },
   "outputs": [
    {
     "name": "stderr",
     "output_type": "stream",
     "text": [
      "/usr/local/lib/python3.10/dist-packages/keras/src/layers/activations/leaky_relu.py:41: UserWarning: Argument `alpha` is deprecated. Use `negative_slope` instead.\n",
      "  warnings.warn(\n",
      "/usr/local/lib/python3.10/dist-packages/keras/src/layers/core/dense.py:87: UserWarning: Do not pass an `input_shape`/`input_dim` argument to a layer. When using Sequential models, prefer using an `Input(shape)` object as the first layer in the model instead.\n",
      "  super().__init__(activity_regularizer=activity_regularizer, **kwargs)\n"
     ]
    }
   ],
   "source": [
    "latent_dim = 98\n",
    "conditional_dim = XTrain.shape[1]\n",
    "output_dim = YTrain.shape[1]\n",
    "\n",
    "generator = buildGenerator(latent_dim, conditional_dim, output_dim)\n",
    "discriminator = buildDiscriminator(output_dim)\n",
    "discriminator.compile(loss='binary_crossentropy', optimizer=Adam(learning_rate=0.0002, beta_1=0.5), metrics=['accuracy'])\n",
    "discriminator.trainable = True\n",
    "gan = buildGan(generator, discriminator)\n",
    "gan.compile(loss='binary_crossentropy', optimizer=Adam(learning_rate=0.0002, beta_1=0.5))"
   ]
  },
  {
   "cell_type": "code",
   "execution_count": 125,
   "id": "b70b5622-32f7-411d-9ad3-d647d0a016ab",
   "metadata": {
    "colab": {
     "base_uri": "https://localhost:8080/",
     "height": 578
    },
    "id": "b70b5622-32f7-411d-9ad3-d647d0a016ab",
    "outputId": "511533cc-ce10-45cb-d0f1-a4494626da8c"
   },
   "outputs": [
    {
     "data": {
      "text/html": [
       "<pre style=\"white-space:pre;overflow-x:auto;line-height:normal;font-family:Menlo,'DejaVu Sans Mono',consolas,'Courier New',monospace\"><span style=\"font-weight: bold\">Model: \"functional_27\"</span>\n",
       "</pre>\n"
      ],
      "text/plain": [
       "\u001b[1mModel: \"functional_27\"\u001b[0m\n"
      ]
     },
     "metadata": {},
     "output_type": "display_data"
    },
    {
     "data": {
      "text/html": [
       "<pre style=\"white-space:pre;overflow-x:auto;line-height:normal;font-family:Menlo,'DejaVu Sans Mono',consolas,'Courier New',monospace\">┏━━━━━━━━━━━━━━━━━━━━━━━━━━━┳━━━━━━━━━━━━━━━━━━━━━━━━┳━━━━━━━━━━━━━━━━┳━━━━━━━━━━━━━━━━━━━━━━━━┓\n",
       "┃<span style=\"font-weight: bold\"> Layer (type)              </span>┃<span style=\"font-weight: bold\"> Output Shape           </span>┃<span style=\"font-weight: bold\">        Param # </span>┃<span style=\"font-weight: bold\"> Connected to           </span>┃\n",
       "┡━━━━━━━━━━━━━━━━━━━━━━━━━━━╇━━━━━━━━━━━━━━━━━━━━━━━━╇━━━━━━━━━━━━━━━━╇━━━━━━━━━━━━━━━━━━━━━━━━┩\n",
       "│ input_layer_15            │ (<span style=\"color: #00d7ff; text-decoration-color: #00d7ff\">None</span>, <span style=\"color: #00af00; text-decoration-color: #00af00\">98</span>)             │              <span style=\"color: #00af00; text-decoration-color: #00af00\">0</span> │ -                      │\n",
       "│ (<span style=\"color: #0087ff; text-decoration-color: #0087ff\">InputLayer</span>)              │                        │                │                        │\n",
       "├───────────────────────────┼────────────────────────┼────────────────┼────────────────────────┤\n",
       "│ input_layer_16            │ (<span style=\"color: #00d7ff; text-decoration-color: #00d7ff\">None</span>, <span style=\"color: #00af00; text-decoration-color: #00af00\">98</span>)             │              <span style=\"color: #00af00; text-decoration-color: #00af00\">0</span> │ -                      │\n",
       "│ (<span style=\"color: #0087ff; text-decoration-color: #0087ff\">InputLayer</span>)              │                        │                │                        │\n",
       "├───────────────────────────┼────────────────────────┼────────────────┼────────────────────────┤\n",
       "│ concatenate_3             │ (<span style=\"color: #00d7ff; text-decoration-color: #00d7ff\">None</span>, <span style=\"color: #00af00; text-decoration-color: #00af00\">196</span>)            │              <span style=\"color: #00af00; text-decoration-color: #00af00\">0</span> │ input_layer_15[<span style=\"color: #00af00; text-decoration-color: #00af00\">0</span>][<span style=\"color: #00af00; text-decoration-color: #00af00\">0</span>],  │\n",
       "│ (<span style=\"color: #0087ff; text-decoration-color: #0087ff\">Concatenate</span>)             │                        │                │ input_layer_16[<span style=\"color: #00af00; text-decoration-color: #00af00\">0</span>][<span style=\"color: #00af00; text-decoration-color: #00af00\">0</span>]   │\n",
       "├───────────────────────────┼────────────────────────┼────────────────┼────────────────────────┤\n",
       "│ dense_21 (<span style=\"color: #0087ff; text-decoration-color: #0087ff\">Dense</span>)          │ (<span style=\"color: #00d7ff; text-decoration-color: #00d7ff\">None</span>, <span style=\"color: #00af00; text-decoration-color: #00af00\">128</span>)            │         <span style=\"color: #00af00; text-decoration-color: #00af00\">25,216</span> │ concatenate_3[<span style=\"color: #00af00; text-decoration-color: #00af00\">0</span>][<span style=\"color: #00af00; text-decoration-color: #00af00\">0</span>]    │\n",
       "├───────────────────────────┼────────────────────────┼────────────────┼────────────────────────┤\n",
       "│ leaky_re_lu_15            │ (<span style=\"color: #00d7ff; text-decoration-color: #00d7ff\">None</span>, <span style=\"color: #00af00; text-decoration-color: #00af00\">128</span>)            │              <span style=\"color: #00af00; text-decoration-color: #00af00\">0</span> │ dense_21[<span style=\"color: #00af00; text-decoration-color: #00af00\">0</span>][<span style=\"color: #00af00; text-decoration-color: #00af00\">0</span>]         │\n",
       "│ (<span style=\"color: #0087ff; text-decoration-color: #0087ff\">LeakyReLU</span>)               │                        │                │                        │\n",
       "├───────────────────────────┼────────────────────────┼────────────────┼────────────────────────┤\n",
       "│ dense_22 (<span style=\"color: #0087ff; text-decoration-color: #0087ff\">Dense</span>)          │ (<span style=\"color: #00d7ff; text-decoration-color: #00d7ff\">None</span>, <span style=\"color: #00af00; text-decoration-color: #00af00\">256</span>)            │         <span style=\"color: #00af00; text-decoration-color: #00af00\">33,024</span> │ leaky_re_lu_15[<span style=\"color: #00af00; text-decoration-color: #00af00\">0</span>][<span style=\"color: #00af00; text-decoration-color: #00af00\">0</span>]   │\n",
       "├───────────────────────────┼────────────────────────┼────────────────┼────────────────────────┤\n",
       "│ leaky_re_lu_16            │ (<span style=\"color: #00d7ff; text-decoration-color: #00d7ff\">None</span>, <span style=\"color: #00af00; text-decoration-color: #00af00\">256</span>)            │              <span style=\"color: #00af00; text-decoration-color: #00af00\">0</span> │ dense_22[<span style=\"color: #00af00; text-decoration-color: #00af00\">0</span>][<span style=\"color: #00af00; text-decoration-color: #00af00\">0</span>]         │\n",
       "│ (<span style=\"color: #0087ff; text-decoration-color: #0087ff\">LeakyReLU</span>)               │                        │                │                        │\n",
       "├───────────────────────────┼────────────────────────┼────────────────┼────────────────────────┤\n",
       "│ dense_23 (<span style=\"color: #0087ff; text-decoration-color: #0087ff\">Dense</span>)          │ (<span style=\"color: #00d7ff; text-decoration-color: #00d7ff\">None</span>, <span style=\"color: #00af00; text-decoration-color: #00af00\">512</span>)            │        <span style=\"color: #00af00; text-decoration-color: #00af00\">131,584</span> │ leaky_re_lu_16[<span style=\"color: #00af00; text-decoration-color: #00af00\">0</span>][<span style=\"color: #00af00; text-decoration-color: #00af00\">0</span>]   │\n",
       "├───────────────────────────┼────────────────────────┼────────────────┼────────────────────────┤\n",
       "│ leaky_re_lu_17            │ (<span style=\"color: #00d7ff; text-decoration-color: #00d7ff\">None</span>, <span style=\"color: #00af00; text-decoration-color: #00af00\">512</span>)            │              <span style=\"color: #00af00; text-decoration-color: #00af00\">0</span> │ dense_23[<span style=\"color: #00af00; text-decoration-color: #00af00\">0</span>][<span style=\"color: #00af00; text-decoration-color: #00af00\">0</span>]         │\n",
       "│ (<span style=\"color: #0087ff; text-decoration-color: #0087ff\">LeakyReLU</span>)               │                        │                │                        │\n",
       "├───────────────────────────┼────────────────────────┼────────────────┼────────────────────────┤\n",
       "│ dense_24 (<span style=\"color: #0087ff; text-decoration-color: #0087ff\">Dense</span>)          │ (<span style=\"color: #00d7ff; text-decoration-color: #00d7ff\">None</span>, <span style=\"color: #00af00; text-decoration-color: #00af00\">1216</span>)           │        <span style=\"color: #00af00; text-decoration-color: #00af00\">623,808</span> │ leaky_re_lu_17[<span style=\"color: #00af00; text-decoration-color: #00af00\">0</span>][<span style=\"color: #00af00; text-decoration-color: #00af00\">0</span>]   │\n",
       "└───────────────────────────┴────────────────────────┴────────────────┴────────────────────────┘\n",
       "</pre>\n"
      ],
      "text/plain": [
       "┏━━━━━━━━━━━━━━━━━━━━━━━━━━━┳━━━━━━━━━━━━━━━━━━━━━━━━┳━━━━━━━━━━━━━━━━┳━━━━━━━━━━━━━━━━━━━━━━━━┓\n",
       "┃\u001b[1m \u001b[0m\u001b[1mLayer (type)             \u001b[0m\u001b[1m \u001b[0m┃\u001b[1m \u001b[0m\u001b[1mOutput Shape          \u001b[0m\u001b[1m \u001b[0m┃\u001b[1m \u001b[0m\u001b[1m       Param #\u001b[0m\u001b[1m \u001b[0m┃\u001b[1m \u001b[0m\u001b[1mConnected to          \u001b[0m\u001b[1m \u001b[0m┃\n",
       "┡━━━━━━━━━━━━━━━━━━━━━━━━━━━╇━━━━━━━━━━━━━━━━━━━━━━━━╇━━━━━━━━━━━━━━━━╇━━━━━━━━━━━━━━━━━━━━━━━━┩\n",
       "│ input_layer_15            │ (\u001b[38;5;45mNone\u001b[0m, \u001b[38;5;34m98\u001b[0m)             │              \u001b[38;5;34m0\u001b[0m │ -                      │\n",
       "│ (\u001b[38;5;33mInputLayer\u001b[0m)              │                        │                │                        │\n",
       "├───────────────────────────┼────────────────────────┼────────────────┼────────────────────────┤\n",
       "│ input_layer_16            │ (\u001b[38;5;45mNone\u001b[0m, \u001b[38;5;34m98\u001b[0m)             │              \u001b[38;5;34m0\u001b[0m │ -                      │\n",
       "│ (\u001b[38;5;33mInputLayer\u001b[0m)              │                        │                │                        │\n",
       "├───────────────────────────┼────────────────────────┼────────────────┼────────────────────────┤\n",
       "│ concatenate_3             │ (\u001b[38;5;45mNone\u001b[0m, \u001b[38;5;34m196\u001b[0m)            │              \u001b[38;5;34m0\u001b[0m │ input_layer_15[\u001b[38;5;34m0\u001b[0m][\u001b[38;5;34m0\u001b[0m],  │\n",
       "│ (\u001b[38;5;33mConcatenate\u001b[0m)             │                        │                │ input_layer_16[\u001b[38;5;34m0\u001b[0m][\u001b[38;5;34m0\u001b[0m]   │\n",
       "├───────────────────────────┼────────────────────────┼────────────────┼────────────────────────┤\n",
       "│ dense_21 (\u001b[38;5;33mDense\u001b[0m)          │ (\u001b[38;5;45mNone\u001b[0m, \u001b[38;5;34m128\u001b[0m)            │         \u001b[38;5;34m25,216\u001b[0m │ concatenate_3[\u001b[38;5;34m0\u001b[0m][\u001b[38;5;34m0\u001b[0m]    │\n",
       "├───────────────────────────┼────────────────────────┼────────────────┼────────────────────────┤\n",
       "│ leaky_re_lu_15            │ (\u001b[38;5;45mNone\u001b[0m, \u001b[38;5;34m128\u001b[0m)            │              \u001b[38;5;34m0\u001b[0m │ dense_21[\u001b[38;5;34m0\u001b[0m][\u001b[38;5;34m0\u001b[0m]         │\n",
       "│ (\u001b[38;5;33mLeakyReLU\u001b[0m)               │                        │                │                        │\n",
       "├───────────────────────────┼────────────────────────┼────────────────┼────────────────────────┤\n",
       "│ dense_22 (\u001b[38;5;33mDense\u001b[0m)          │ (\u001b[38;5;45mNone\u001b[0m, \u001b[38;5;34m256\u001b[0m)            │         \u001b[38;5;34m33,024\u001b[0m │ leaky_re_lu_15[\u001b[38;5;34m0\u001b[0m][\u001b[38;5;34m0\u001b[0m]   │\n",
       "├───────────────────────────┼────────────────────────┼────────────────┼────────────────────────┤\n",
       "│ leaky_re_lu_16            │ (\u001b[38;5;45mNone\u001b[0m, \u001b[38;5;34m256\u001b[0m)            │              \u001b[38;5;34m0\u001b[0m │ dense_22[\u001b[38;5;34m0\u001b[0m][\u001b[38;5;34m0\u001b[0m]         │\n",
       "│ (\u001b[38;5;33mLeakyReLU\u001b[0m)               │                        │                │                        │\n",
       "├───────────────────────────┼────────────────────────┼────────────────┼────────────────────────┤\n",
       "│ dense_23 (\u001b[38;5;33mDense\u001b[0m)          │ (\u001b[38;5;45mNone\u001b[0m, \u001b[38;5;34m512\u001b[0m)            │        \u001b[38;5;34m131,584\u001b[0m │ leaky_re_lu_16[\u001b[38;5;34m0\u001b[0m][\u001b[38;5;34m0\u001b[0m]   │\n",
       "├───────────────────────────┼────────────────────────┼────────────────┼────────────────────────┤\n",
       "│ leaky_re_lu_17            │ (\u001b[38;5;45mNone\u001b[0m, \u001b[38;5;34m512\u001b[0m)            │              \u001b[38;5;34m0\u001b[0m │ dense_23[\u001b[38;5;34m0\u001b[0m][\u001b[38;5;34m0\u001b[0m]         │\n",
       "│ (\u001b[38;5;33mLeakyReLU\u001b[0m)               │                        │                │                        │\n",
       "├───────────────────────────┼────────────────────────┼────────────────┼────────────────────────┤\n",
       "│ dense_24 (\u001b[38;5;33mDense\u001b[0m)          │ (\u001b[38;5;45mNone\u001b[0m, \u001b[38;5;34m1216\u001b[0m)           │        \u001b[38;5;34m623,808\u001b[0m │ leaky_re_lu_17[\u001b[38;5;34m0\u001b[0m][\u001b[38;5;34m0\u001b[0m]   │\n",
       "└───────────────────────────┴────────────────────────┴────────────────┴────────────────────────┘\n"
      ]
     },
     "metadata": {},
     "output_type": "display_data"
    },
    {
     "data": {
      "text/html": [
       "<pre style=\"white-space:pre;overflow-x:auto;line-height:normal;font-family:Menlo,'DejaVu Sans Mono',consolas,'Courier New',monospace\"><span style=\"font-weight: bold\"> Total params: </span><span style=\"color: #00af00; text-decoration-color: #00af00\">813,632</span> (3.10 MB)\n",
       "</pre>\n"
      ],
      "text/plain": [
       "\u001b[1m Total params: \u001b[0m\u001b[38;5;34m813,632\u001b[0m (3.10 MB)\n"
      ]
     },
     "metadata": {},
     "output_type": "display_data"
    },
    {
     "data": {
      "text/html": [
       "<pre style=\"white-space:pre;overflow-x:auto;line-height:normal;font-family:Menlo,'DejaVu Sans Mono',consolas,'Courier New',monospace\"><span style=\"font-weight: bold\"> Trainable params: </span><span style=\"color: #00af00; text-decoration-color: #00af00\">813,632</span> (3.10 MB)\n",
       "</pre>\n"
      ],
      "text/plain": [
       "\u001b[1m Trainable params: \u001b[0m\u001b[38;5;34m813,632\u001b[0m (3.10 MB)\n"
      ]
     },
     "metadata": {},
     "output_type": "display_data"
    },
    {
     "data": {
      "text/html": [
       "<pre style=\"white-space:pre;overflow-x:auto;line-height:normal;font-family:Menlo,'DejaVu Sans Mono',consolas,'Courier New',monospace\"><span style=\"font-weight: bold\"> Non-trainable params: </span><span style=\"color: #00af00; text-decoration-color: #00af00\">0</span> (0.00 B)\n",
       "</pre>\n"
      ],
      "text/plain": [
       "\u001b[1m Non-trainable params: \u001b[0m\u001b[38;5;34m0\u001b[0m (0.00 B)\n"
      ]
     },
     "metadata": {},
     "output_type": "display_data"
    }
   ],
   "source": [
    "generator.summary()"
   ]
  },
  {
   "cell_type": "code",
   "execution_count": 126,
   "id": "fa9898ab-a9d8-4faa-8f80-3bda71f46171",
   "metadata": {
    "colab": {
     "base_uri": "https://localhost:8080/",
     "height": 374
    },
    "id": "fa9898ab-a9d8-4faa-8f80-3bda71f46171",
    "outputId": "efeabfa6-d12f-4a92-edbc-20cea128556d"
   },
   "outputs": [
    {
     "data": {
      "text/html": [
       "<pre style=\"white-space:pre;overflow-x:auto;line-height:normal;font-family:Menlo,'DejaVu Sans Mono',consolas,'Courier New',monospace\"><span style=\"font-weight: bold\">Model: \"sequential_3\"</span>\n",
       "</pre>\n"
      ],
      "text/plain": [
       "\u001b[1mModel: \"sequential_3\"\u001b[0m\n"
      ]
     },
     "metadata": {},
     "output_type": "display_data"
    },
    {
     "data": {
      "text/html": [
       "<pre style=\"white-space:pre;overflow-x:auto;line-height:normal;font-family:Menlo,'DejaVu Sans Mono',consolas,'Courier New',monospace\">┏━━━━━━━━━━━━━━━━━━━━━━━━━━━━━━━━━━━━━━┳━━━━━━━━━━━━━━━━━━━━━━━━━━━━━┳━━━━━━━━━━━━━━━━━┓\n",
       "┃<span style=\"font-weight: bold\"> Layer (type)                         </span>┃<span style=\"font-weight: bold\"> Output Shape                </span>┃<span style=\"font-weight: bold\">         Param # </span>┃\n",
       "┡━━━━━━━━━━━━━━━━━━━━━━━━━━━━━━━━━━━━━━╇━━━━━━━━━━━━━━━━━━━━━━━━━━━━━╇━━━━━━━━━━━━━━━━━┩\n",
       "│ dense_25 (<span style=\"color: #0087ff; text-decoration-color: #0087ff\">Dense</span>)                     │ (<span style=\"color: #00d7ff; text-decoration-color: #00d7ff\">None</span>, <span style=\"color: #00af00; text-decoration-color: #00af00\">512</span>)                 │         <span style=\"color: #00af00; text-decoration-color: #00af00\">623,104</span> │\n",
       "├──────────────────────────────────────┼─────────────────────────────┼─────────────────┤\n",
       "│ leaky_re_lu_18 (<span style=\"color: #0087ff; text-decoration-color: #0087ff\">LeakyReLU</span>)           │ (<span style=\"color: #00d7ff; text-decoration-color: #00d7ff\">None</span>, <span style=\"color: #00af00; text-decoration-color: #00af00\">512</span>)                 │               <span style=\"color: #00af00; text-decoration-color: #00af00\">0</span> │\n",
       "├──────────────────────────────────────┼─────────────────────────────┼─────────────────┤\n",
       "│ dropout_6 (<span style=\"color: #0087ff; text-decoration-color: #0087ff\">Dropout</span>)                  │ (<span style=\"color: #00d7ff; text-decoration-color: #00d7ff\">None</span>, <span style=\"color: #00af00; text-decoration-color: #00af00\">512</span>)                 │               <span style=\"color: #00af00; text-decoration-color: #00af00\">0</span> │\n",
       "├──────────────────────────────────────┼─────────────────────────────┼─────────────────┤\n",
       "│ dense_26 (<span style=\"color: #0087ff; text-decoration-color: #0087ff\">Dense</span>)                     │ (<span style=\"color: #00d7ff; text-decoration-color: #00d7ff\">None</span>, <span style=\"color: #00af00; text-decoration-color: #00af00\">256</span>)                 │         <span style=\"color: #00af00; text-decoration-color: #00af00\">131,328</span> │\n",
       "├──────────────────────────────────────┼─────────────────────────────┼─────────────────┤\n",
       "│ leaky_re_lu_19 (<span style=\"color: #0087ff; text-decoration-color: #0087ff\">LeakyReLU</span>)           │ (<span style=\"color: #00d7ff; text-decoration-color: #00d7ff\">None</span>, <span style=\"color: #00af00; text-decoration-color: #00af00\">256</span>)                 │               <span style=\"color: #00af00; text-decoration-color: #00af00\">0</span> │\n",
       "├──────────────────────────────────────┼─────────────────────────────┼─────────────────┤\n",
       "│ dropout_7 (<span style=\"color: #0087ff; text-decoration-color: #0087ff\">Dropout</span>)                  │ (<span style=\"color: #00d7ff; text-decoration-color: #00d7ff\">None</span>, <span style=\"color: #00af00; text-decoration-color: #00af00\">256</span>)                 │               <span style=\"color: #00af00; text-decoration-color: #00af00\">0</span> │\n",
       "├──────────────────────────────────────┼─────────────────────────────┼─────────────────┤\n",
       "│ dense_27 (<span style=\"color: #0087ff; text-decoration-color: #0087ff\">Dense</span>)                     │ (<span style=\"color: #00d7ff; text-decoration-color: #00d7ff\">None</span>, <span style=\"color: #00af00; text-decoration-color: #00af00\">1</span>)                   │             <span style=\"color: #00af00; text-decoration-color: #00af00\">257</span> │\n",
       "└──────────────────────────────────────┴─────────────────────────────┴─────────────────┘\n",
       "</pre>\n"
      ],
      "text/plain": [
       "┏━━━━━━━━━━━━━━━━━━━━━━━━━━━━━━━━━━━━━━┳━━━━━━━━━━━━━━━━━━━━━━━━━━━━━┳━━━━━━━━━━━━━━━━━┓\n",
       "┃\u001b[1m \u001b[0m\u001b[1mLayer (type)                        \u001b[0m\u001b[1m \u001b[0m┃\u001b[1m \u001b[0m\u001b[1mOutput Shape               \u001b[0m\u001b[1m \u001b[0m┃\u001b[1m \u001b[0m\u001b[1m        Param #\u001b[0m\u001b[1m \u001b[0m┃\n",
       "┡━━━━━━━━━━━━━━━━━━━━━━━━━━━━━━━━━━━━━━╇━━━━━━━━━━━━━━━━━━━━━━━━━━━━━╇━━━━━━━━━━━━━━━━━┩\n",
       "│ dense_25 (\u001b[38;5;33mDense\u001b[0m)                     │ (\u001b[38;5;45mNone\u001b[0m, \u001b[38;5;34m512\u001b[0m)                 │         \u001b[38;5;34m623,104\u001b[0m │\n",
       "├──────────────────────────────────────┼─────────────────────────────┼─────────────────┤\n",
       "│ leaky_re_lu_18 (\u001b[38;5;33mLeakyReLU\u001b[0m)           │ (\u001b[38;5;45mNone\u001b[0m, \u001b[38;5;34m512\u001b[0m)                 │               \u001b[38;5;34m0\u001b[0m │\n",
       "├──────────────────────────────────────┼─────────────────────────────┼─────────────────┤\n",
       "│ dropout_6 (\u001b[38;5;33mDropout\u001b[0m)                  │ (\u001b[38;5;45mNone\u001b[0m, \u001b[38;5;34m512\u001b[0m)                 │               \u001b[38;5;34m0\u001b[0m │\n",
       "├──────────────────────────────────────┼─────────────────────────────┼─────────────────┤\n",
       "│ dense_26 (\u001b[38;5;33mDense\u001b[0m)                     │ (\u001b[38;5;45mNone\u001b[0m, \u001b[38;5;34m256\u001b[0m)                 │         \u001b[38;5;34m131,328\u001b[0m │\n",
       "├──────────────────────────────────────┼─────────────────────────────┼─────────────────┤\n",
       "│ leaky_re_lu_19 (\u001b[38;5;33mLeakyReLU\u001b[0m)           │ (\u001b[38;5;45mNone\u001b[0m, \u001b[38;5;34m256\u001b[0m)                 │               \u001b[38;5;34m0\u001b[0m │\n",
       "├──────────────────────────────────────┼─────────────────────────────┼─────────────────┤\n",
       "│ dropout_7 (\u001b[38;5;33mDropout\u001b[0m)                  │ (\u001b[38;5;45mNone\u001b[0m, \u001b[38;5;34m256\u001b[0m)                 │               \u001b[38;5;34m0\u001b[0m │\n",
       "├──────────────────────────────────────┼─────────────────────────────┼─────────────────┤\n",
       "│ dense_27 (\u001b[38;5;33mDense\u001b[0m)                     │ (\u001b[38;5;45mNone\u001b[0m, \u001b[38;5;34m1\u001b[0m)                   │             \u001b[38;5;34m257\u001b[0m │\n",
       "└──────────────────────────────────────┴─────────────────────────────┴─────────────────┘\n"
      ]
     },
     "metadata": {},
     "output_type": "display_data"
    },
    {
     "data": {
      "text/html": [
       "<pre style=\"white-space:pre;overflow-x:auto;line-height:normal;font-family:Menlo,'DejaVu Sans Mono',consolas,'Courier New',monospace\"><span style=\"font-weight: bold\"> Total params: </span><span style=\"color: #00af00; text-decoration-color: #00af00\">754,689</span> (2.88 MB)\n",
       "</pre>\n"
      ],
      "text/plain": [
       "\u001b[1m Total params: \u001b[0m\u001b[38;5;34m754,689\u001b[0m (2.88 MB)\n"
      ]
     },
     "metadata": {},
     "output_type": "display_data"
    },
    {
     "data": {
      "text/html": [
       "<pre style=\"white-space:pre;overflow-x:auto;line-height:normal;font-family:Menlo,'DejaVu Sans Mono',consolas,'Courier New',monospace\"><span style=\"font-weight: bold\"> Trainable params: </span><span style=\"color: #00af00; text-decoration-color: #00af00\">754,689</span> (2.88 MB)\n",
       "</pre>\n"
      ],
      "text/plain": [
       "\u001b[1m Trainable params: \u001b[0m\u001b[38;5;34m754,689\u001b[0m (2.88 MB)\n"
      ]
     },
     "metadata": {},
     "output_type": "display_data"
    },
    {
     "data": {
      "text/html": [
       "<pre style=\"white-space:pre;overflow-x:auto;line-height:normal;font-family:Menlo,'DejaVu Sans Mono',consolas,'Courier New',monospace\"><span style=\"font-weight: bold\"> Non-trainable params: </span><span style=\"color: #00af00; text-decoration-color: #00af00\">0</span> (0.00 B)\n",
       "</pre>\n"
      ],
      "text/plain": [
       "\u001b[1m Non-trainable params: \u001b[0m\u001b[38;5;34m0\u001b[0m (0.00 B)\n"
      ]
     },
     "metadata": {},
     "output_type": "display_data"
    }
   ],
   "source": [
    "discriminator.summary()"
   ]
  },
  {
   "cell_type": "code",
   "execution_count": 127,
   "id": "8ef2d0b3-405e-4741-976c-7098ab80519d",
   "metadata": {
    "colab": {
     "base_uri": "https://localhost:8080/",
     "height": 323
    },
    "id": "8ef2d0b3-405e-4741-976c-7098ab80519d",
    "outputId": "29e5e319-bd3c-42ec-8218-68c67b11f2e5"
   },
   "outputs": [
    {
     "data": {
      "text/html": [
       "<pre style=\"white-space:pre;overflow-x:auto;line-height:normal;font-family:Menlo,'DejaVu Sans Mono',consolas,'Courier New',monospace\"><span style=\"font-weight: bold\">Model: \"functional_35\"</span>\n",
       "</pre>\n"
      ],
      "text/plain": [
       "\u001b[1mModel: \"functional_35\"\u001b[0m\n"
      ]
     },
     "metadata": {},
     "output_type": "display_data"
    },
    {
     "data": {
      "text/html": [
       "<pre style=\"white-space:pre;overflow-x:auto;line-height:normal;font-family:Menlo,'DejaVu Sans Mono',consolas,'Courier New',monospace\">┏━━━━━━━━━━━━━━━━━━━━━━━━━━━┳━━━━━━━━━━━━━━━━━━━━━━━━┳━━━━━━━━━━━━━━━━┳━━━━━━━━━━━━━━━━━━━━━━━━┓\n",
       "┃<span style=\"font-weight: bold\"> Layer (type)              </span>┃<span style=\"font-weight: bold\"> Output Shape           </span>┃<span style=\"font-weight: bold\">        Param # </span>┃<span style=\"font-weight: bold\"> Connected to           </span>┃\n",
       "┡━━━━━━━━━━━━━━━━━━━━━━━━━━━╇━━━━━━━━━━━━━━━━━━━━━━━━╇━━━━━━━━━━━━━━━━╇━━━━━━━━━━━━━━━━━━━━━━━━┩\n",
       "│ input_layer_18            │ (<span style=\"color: #00d7ff; text-decoration-color: #00d7ff\">None</span>, <span style=\"color: #00af00; text-decoration-color: #00af00\">98</span>)             │              <span style=\"color: #00af00; text-decoration-color: #00af00\">0</span> │ -                      │\n",
       "│ (<span style=\"color: #0087ff; text-decoration-color: #0087ff\">InputLayer</span>)              │                        │                │                        │\n",
       "├───────────────────────────┼────────────────────────┼────────────────┼────────────────────────┤\n",
       "│ input_layer_19            │ (<span style=\"color: #00d7ff; text-decoration-color: #00d7ff\">None</span>, <span style=\"color: #00af00; text-decoration-color: #00af00\">98</span>)             │              <span style=\"color: #00af00; text-decoration-color: #00af00\">0</span> │ -                      │\n",
       "│ (<span style=\"color: #0087ff; text-decoration-color: #0087ff\">InputLayer</span>)              │                        │                │                        │\n",
       "├───────────────────────────┼────────────────────────┼────────────────┼────────────────────────┤\n",
       "│ functional_27             │ (<span style=\"color: #00d7ff; text-decoration-color: #00d7ff\">None</span>, <span style=\"color: #00af00; text-decoration-color: #00af00\">1216</span>)           │        <span style=\"color: #00af00; text-decoration-color: #00af00\">813,632</span> │ input_layer_18[<span style=\"color: #00af00; text-decoration-color: #00af00\">0</span>][<span style=\"color: #00af00; text-decoration-color: #00af00\">0</span>],  │\n",
       "│ (<span style=\"color: #0087ff; text-decoration-color: #0087ff\">Functional</span>)              │                        │                │ input_layer_19[<span style=\"color: #00af00; text-decoration-color: #00af00\">0</span>][<span style=\"color: #00af00; text-decoration-color: #00af00\">0</span>]   │\n",
       "├───────────────────────────┼────────────────────────┼────────────────┼────────────────────────┤\n",
       "│ sequential_3 (<span style=\"color: #0087ff; text-decoration-color: #0087ff\">Sequential</span>) │ (<span style=\"color: #00d7ff; text-decoration-color: #00d7ff\">None</span>, <span style=\"color: #00af00; text-decoration-color: #00af00\">1</span>)              │        <span style=\"color: #00af00; text-decoration-color: #00af00\">754,689</span> │ functional_27[<span style=\"color: #00af00; text-decoration-color: #00af00\">0</span>][<span style=\"color: #00af00; text-decoration-color: #00af00\">0</span>]    │\n",
       "└───────────────────────────┴────────────────────────┴────────────────┴────────────────────────┘\n",
       "</pre>\n"
      ],
      "text/plain": [
       "┏━━━━━━━━━━━━━━━━━━━━━━━━━━━┳━━━━━━━━━━━━━━━━━━━━━━━━┳━━━━━━━━━━━━━━━━┳━━━━━━━━━━━━━━━━━━━━━━━━┓\n",
       "┃\u001b[1m \u001b[0m\u001b[1mLayer (type)             \u001b[0m\u001b[1m \u001b[0m┃\u001b[1m \u001b[0m\u001b[1mOutput Shape          \u001b[0m\u001b[1m \u001b[0m┃\u001b[1m \u001b[0m\u001b[1m       Param #\u001b[0m\u001b[1m \u001b[0m┃\u001b[1m \u001b[0m\u001b[1mConnected to          \u001b[0m\u001b[1m \u001b[0m┃\n",
       "┡━━━━━━━━━━━━━━━━━━━━━━━━━━━╇━━━━━━━━━━━━━━━━━━━━━━━━╇━━━━━━━━━━━━━━━━╇━━━━━━━━━━━━━━━━━━━━━━━━┩\n",
       "│ input_layer_18            │ (\u001b[38;5;45mNone\u001b[0m, \u001b[38;5;34m98\u001b[0m)             │              \u001b[38;5;34m0\u001b[0m │ -                      │\n",
       "│ (\u001b[38;5;33mInputLayer\u001b[0m)              │                        │                │                        │\n",
       "├───────────────────────────┼────────────────────────┼────────────────┼────────────────────────┤\n",
       "│ input_layer_19            │ (\u001b[38;5;45mNone\u001b[0m, \u001b[38;5;34m98\u001b[0m)             │              \u001b[38;5;34m0\u001b[0m │ -                      │\n",
       "│ (\u001b[38;5;33mInputLayer\u001b[0m)              │                        │                │                        │\n",
       "├───────────────────────────┼────────────────────────┼────────────────┼────────────────────────┤\n",
       "│ functional_27             │ (\u001b[38;5;45mNone\u001b[0m, \u001b[38;5;34m1216\u001b[0m)           │        \u001b[38;5;34m813,632\u001b[0m │ input_layer_18[\u001b[38;5;34m0\u001b[0m][\u001b[38;5;34m0\u001b[0m],  │\n",
       "│ (\u001b[38;5;33mFunctional\u001b[0m)              │                        │                │ input_layer_19[\u001b[38;5;34m0\u001b[0m][\u001b[38;5;34m0\u001b[0m]   │\n",
       "├───────────────────────────┼────────────────────────┼────────────────┼────────────────────────┤\n",
       "│ sequential_3 (\u001b[38;5;33mSequential\u001b[0m) │ (\u001b[38;5;45mNone\u001b[0m, \u001b[38;5;34m1\u001b[0m)              │        \u001b[38;5;34m754,689\u001b[0m │ functional_27[\u001b[38;5;34m0\u001b[0m][\u001b[38;5;34m0\u001b[0m]    │\n",
       "└───────────────────────────┴────────────────────────┴────────────────┴────────────────────────┘\n"
      ]
     },
     "metadata": {},
     "output_type": "display_data"
    },
    {
     "data": {
      "text/html": [
       "<pre style=\"white-space:pre;overflow-x:auto;line-height:normal;font-family:Menlo,'DejaVu Sans Mono',consolas,'Courier New',monospace\"><span style=\"font-weight: bold\"> Total params: </span><span style=\"color: #00af00; text-decoration-color: #00af00\">1,568,321</span> (5.98 MB)\n",
       "</pre>\n"
      ],
      "text/plain": [
       "\u001b[1m Total params: \u001b[0m\u001b[38;5;34m1,568,321\u001b[0m (5.98 MB)\n"
      ]
     },
     "metadata": {},
     "output_type": "display_data"
    },
    {
     "data": {
      "text/html": [
       "<pre style=\"white-space:pre;overflow-x:auto;line-height:normal;font-family:Menlo,'DejaVu Sans Mono',consolas,'Courier New',monospace\"><span style=\"font-weight: bold\"> Trainable params: </span><span style=\"color: #00af00; text-decoration-color: #00af00\">1,568,321</span> (5.98 MB)\n",
       "</pre>\n"
      ],
      "text/plain": [
       "\u001b[1m Trainable params: \u001b[0m\u001b[38;5;34m1,568,321\u001b[0m (5.98 MB)\n"
      ]
     },
     "metadata": {},
     "output_type": "display_data"
    },
    {
     "data": {
      "text/html": [
       "<pre style=\"white-space:pre;overflow-x:auto;line-height:normal;font-family:Menlo,'DejaVu Sans Mono',consolas,'Courier New',monospace\"><span style=\"font-weight: bold\"> Non-trainable params: </span><span style=\"color: #00af00; text-decoration-color: #00af00\">0</span> (0.00 B)\n",
       "</pre>\n"
      ],
      "text/plain": [
       "\u001b[1m Non-trainable params: \u001b[0m\u001b[38;5;34m0\u001b[0m (0.00 B)\n"
      ]
     },
     "metadata": {},
     "output_type": "display_data"
    }
   ],
   "source": [
    "gan.summary()"
   ]
  },
  {
   "cell_type": "code",
   "execution_count": 128,
   "id": "iIV8DBt7Frg5",
   "metadata": {
    "colab": {
     "base_uri": "https://localhost:8080/"
    },
    "id": "iIV8DBt7Frg5",
    "outputId": "2888db60-63bf-4deb-9eaa-69735b26c10b"
   },
   "outputs": [
    {
     "name": "stdout",
     "output_type": "stream",
     "text": [
      "\u001b[1m1/1\u001b[0m \u001b[32m━━━━━━━━━━━━━━━━━━━━\u001b[0m\u001b[37m\u001b[0m \u001b[1m0s\u001b[0m 61ms/step\n",
      "Generated Output: [[ 0.02943138 -0.09089895  0.16180581 ...  0.08860099  0.05890984\n",
      "  -0.39814252]]\n"
     ]
    }
   ],
   "source": [
    "conditional_input = np.expand_dims(XTrain[0], axis=0)\n",
    "latent_vector = np.random.normal(0, 1, (1, latent_dim))\n",
    "# latent_vector = np.expand_dims(XTrain[0], axis=0)\n",
    "generated_output = generator.predict([latent_vector, conditional_input])\n",
    "\n",
    "print(\"Generated Output:\", generated_output)"
   ]
  },
  {
   "cell_type": "code",
   "execution_count": 129,
   "id": "ELQ6aFplsl8r",
   "metadata": {
    "id": "ELQ6aFplsl8r"
   },
   "outputs": [],
   "source": [
    "indeksInstrumenX = {\n",
    "    \"X\": 11\n",
    "}\n",
    "\n",
    "indeksInstrumenY = {\n",
    "    \"Y_kenong\": 8,\n",
    "    \"Y_kethuk\": 8,\n",
    "    \"Y_kempul\": 4,\n",
    "    \"Y_gong\": 2,\n",
    "    \"Y_kempyang\": 8,\n",
    "    \"Y_bb\": 32,\n",
    "    \"Y_bp\": 64,\n",
    "    \"Y_peking\": 32\n",
    "}"
   ]
  },
  {
   "cell_type": "code",
   "execution_count": 130,
   "id": "43iYv3Nbtr3B",
   "metadata": {
    "colab": {
     "base_uri": "https://localhost:8080/"
    },
    "id": "43iYv3Nbtr3B",
    "outputId": "32f7a40d-1706-4482-ff4c-a6c0eebd4e3c"
   },
   "outputs": [
    {
     "name": "stdout",
     "output_type": "stream",
     "text": [
      "(98,)\n"
     ]
    }
   ],
   "source": [
    "print(XTrain[0].shape)"
   ]
  },
  {
   "cell_type": "code",
   "execution_count": 131,
   "id": "-qRC_k0pti5O",
   "metadata": {
    "colab": {
     "base_uri": "https://localhost:8080/"
    },
    "id": "-qRC_k0pti5O",
    "outputId": "6c519d21-a819-4433-b245-f148897013d4"
   },
   "outputs": [
    {
     "name": "stdout",
     "output_type": "stream",
     "text": [
      "(1, 98)\n"
     ]
    }
   ],
   "source": [
    "print(conditional_input.shape)"
   ]
  },
  {
   "cell_type": "code",
   "execution_count": 132,
   "id": "Mr1GxgOAG-qh",
   "metadata": {
    "id": "Mr1GxgOAG-qh"
   },
   "outputs": [],
   "source": [
    "def showNotes(decodedDict, judul):\n",
    "    print(f\"{'='*50} {judul} {'='*50}\")\n",
    "    for key, value in decodedDict.items():\n",
    "        print(f\"{key}: {value}\")"
   ]
  },
  {
   "cell_type": "code",
   "execution_count": 133,
   "id": "4c7885ab-7d27-4424-9203-3f5dca36dd99",
   "metadata": {
    "id": "4c7885ab-7d27-4424-9203-3f5dca36dd99"
   },
   "outputs": [],
   "source": [
    "decodedInputX = decodeData(latent_vector[0], encodersTrain, indeksInstrumenX)\n",
    "decodedOutputY = decodeData(generated_output[0], encodersTrain, indeksInstrumenY)\n",
    "decodedInputRealDataX = decodeData(XTrain, encodersTrain, indeksInstrumenX, indexAt=0)\n",
    "decodedOutputRealDataY = decodeData(YTrain, encodersTrain, indeksInstrumenY, indexAt=0)"
   ]
  },
  {
   "cell_type": "code",
   "execution_count": 134,
   "id": "oNFpTMceGf-7",
   "metadata": {
    "colab": {
     "base_uri": "https://localhost:8080/"
    },
    "id": "oNFpTMceGf-7",
    "outputId": "9076b6a0-6cfe-4212-b610-9de23bc28b4b"
   },
   "outputs": [
    {
     "name": "stdout",
     "output_type": "stream",
     "text": [
      "================================================== Latent Vector ==================================================\n",
      "X: [1, 2, 0, 6, 'lagu', 1, 2, '2', '5', '3', \"3'\"]\n",
      "================================================== Data Generator ==================================================\n",
      "Y_kenong: [2, 5, 5, 6, 1, 6, 5, 2]\n",
      "Y_kethuk: [1, 0, 1, 0, 1, 0, 0, 1]\n",
      "Y_kempul: [3, 0, 2, 7]\n",
      "Y_gong: [5, 1]\n",
      "Y_kempyang: [1, 0, 1, 1, 1, 1, 1, 0]\n",
      "Y_bb: ['2_', '6', '1', '0', \"2'_\", '6', '6', '0', '3', '6.0', '2_', 'nan', \"2'\", '0.0', '2', '0.0', '2', '6.0', \"5'\", 'nan', \"2'_\", '0.0', \"1'\", 'nan', '0', '0', '1_', '0.0', '7', 'nan', '7', '5']\n",
      "Y_bp: ['3', '0', '0', '0', '0', '0', '2', '0', '1_', '0', \"6'\", '0', '7', '0', '2', '0', '0', '0', \"1'\", '0', '6_', '0', '0', '0', '4', '0', \"2'_\", '0', \"2'\", '0', \"5'\", '0', '2', '0', '7', '0', '6', '0', '5', '0', \"1'\", '0', '3', '0', \"1'\", '0', '0', '0', '2_', '0', '3', '0.0', '2_', '0', '7', '0', '3_', '0', '6', '0', \"1'\", '0', '3', '0']\n",
      "Y_peking: ['6,', '0', '6', '0', '7', 'nan', '6,', '7.0', '7', '0', '5', '1.0', '7', '2', '5', '5.0', '6', '5.0', '0', '3', '7', '7.0', '1', '7', '7', '6.0', \"1'\", '5', '5', '7.0', '0', '0']\n",
      "\n",
      "Data Asli:\n",
      "\n",
      "================================================== Data Asli X ==================================================\n",
      "X: [0, 2, 1, 0, 'lagu', 1, 1, '5', '5', '5', '5']\n",
      "================================================== Data Asli Y ==================================================\n",
      "Y_kenong: [5, 5, 5, 5, 5, 5, 5, 5]\n",
      "Y_kethuk: [1, 0, 1, 0, 1, 0, 1, 0]\n",
      "Y_kempul: [5, 5, 5, 5]\n",
      "Y_gong: [0, 0]\n",
      "Y_kempyang: [0, 0, 0, 0, 0, 0, 0, 0]\n",
      "Y_bb: ['5_', '0', '0', '0', '0', '0', '0', '0', '5_', '0.0', '0', '0.0', '0', '0.0', '0', '0.0', '5_', '0.0', '0', '0.0', '0', '0.0', '0', '0.0', '5_', '0', '0', '0.0', '0', '0', '0', '0']\n",
      "Y_bp: ['0', '0', '0', '0', '0', '0', '0', '0', '5_', '0', '0', '0', '0', '0', '0', '0', '0', '0', '0', '0', '5_', '0', '0', '0', '0', '0', '0', '0', '5_', '0', '0', '0', '0', '0', '0', '0', '0', '0', '0', '0', '5_', '0', '0', '0', '0', '0', '0', '0', '0', '0', '0', '0.0', '5_', '0', '0', '0', '0', '0', '0', '0', '5_', '0', '0', '0']\n",
      "Y_peking: ['6', '0', '0', '0', '5', '0', '0', '0.0', '6', '0', '0', '0.0', '5', '0', '0', '0.0', '6', '0.0', '0', '0', '5', '0.0', '0', '0', '6', '0.0', '0', '0', '5', '0.0', '0', '0']\n"
     ]
    }
   ],
   "source": [
    "showNotes(decodedInputX, \"Latent Vector\")\n",
    "showNotes(decodedOutputY, \"Data Generator\")\n",
    "print(\"\\nData Asli:\\n\")\n",
    "showNotes(decodedInputRealDataX, \"Data Asli X\")\n",
    "showNotes(decodedOutputRealDataY, \"Data Asli Y\")"
   ]
  },
  {
   "cell_type": "code",
   "execution_count": 136,
   "id": "Yl9G51XgtP6d",
   "metadata": {
    "colab": {
     "base_uri": "https://localhost:8080/",
     "height": 106
    },
    "id": "Yl9G51XgtP6d",
    "outputId": "444098bd-7bd0-4563-de90-e6cd86af61c7"
   },
   "outputs": [
    {
     "ename": "SyntaxError",
     "evalue": "incomplete input (<ipython-input-136-424fbb3a34c5>, line 1)",
     "output_type": "error",
     "traceback": [
      "\u001b[0;36m  File \u001b[0;32m\"<ipython-input-136-424fbb3a34c5>\"\u001b[0;36m, line \u001b[0;32m1\u001b[0m\n\u001b[0;31m    print(\u001b[0m\n\u001b[0m          ^\u001b[0m\n\u001b[0;31mSyntaxError\u001b[0m\u001b[0;31m:\u001b[0m incomplete input\n"
     ]
    }
   ],
   "source": [
    "print("
   ]
  },
  {
   "cell_type": "code",
   "execution_count": 137,
   "id": "S0t7-7RmFxIA",
   "metadata": {
    "colab": {
     "base_uri": "https://localhost:8080/"
    },
    "id": "S0t7-7RmFxIA",
    "outputId": "d269f198-fc2a-4e82-be6c-898a151ae6de"
   },
   "outputs": [
    {
     "name": "stdout",
     "output_type": "stream",
     "text": [
      "Mean Squared Error antara aktual dan generat output: 0.13647617400883263\n",
      "Mean Absolute Error antara aktual dan generat output: 0.2125049280108502\n"
     ]
    }
   ],
   "source": [
    "# target asli dari YTrain[0]\n",
    "actual_output = YTrain[0]\n",
    "mse = mean_squared_error(actual_output, generated_output.flatten())\n",
    "print(\"Mean Squared Error antara aktual dan generat output:\", mse)\n",
    "mae = mean_absolute_error(actual_output, generated_output.flatten())\n",
    "print(\"Mean Absolute Error antara aktual dan generat output:\", mae)"
   ]
  },
  {
   "cell_type": "code",
   "execution_count": 138,
   "id": "4b036e0f-d2ee-41f0-8ee7-166ac214a351",
   "metadata": {
    "colab": {
     "base_uri": "https://localhost:8080/"
    },
    "id": "4b036e0f-d2ee-41f0-8ee7-166ac214a351",
    "outputId": "83682ae7-1636-4357-a2d1-101e42525741"
   },
   "outputs": [
    {
     "name": "stdout",
     "output_type": "stream",
     "text": [
      "[[1. 0. 1. 0. 0. 0. 0. 1. 0. 0. 0. 1. 0. 0. 0. 0. 0. 0. 1. 0. 0. 0. 1. 0.\n",
      "  0. 0. 0. 0. 0. 0. 0. 0. 0. 0. 0. 0. 1. 0. 0. 0. 0. 0. 0. 0. 0. 0. 0. 0.\n",
      "  0. 0. 1. 0. 0. 0. 0. 0. 0. 0. 0. 0. 0. 0. 0. 0. 1. 0. 0. 0. 0. 0. 0. 0.\n",
      "  0. 0. 0. 0. 0. 0. 1. 0. 0. 0. 0. 0. 0. 0. 0. 0. 0. 0. 0. 0. 1. 0. 0. 0.\n",
      "  0. 0.]]\n",
      "[[-7.54022311e-01  2.43359744e-01  4.58717746e-02 -1.03988311e+00\n",
      "  -7.02211983e-01 -2.40734595e+00  1.15512739e+00  5.10061583e-01\n",
      "  -2.90716444e-01  3.92071741e-01  2.24722153e-01  5.81141380e-02\n",
      "  -1.38257639e+00  5.55087661e-01  7.15327115e-01 -2.99427561e+00\n",
      "   5.43864975e-02  1.50610259e+00  2.36489050e+00  4.51963791e-01\n",
      "  -1.04700607e+00 -1.57109495e+00  1.94936815e+00  1.01078660e-01\n",
      "  -1.27871577e+00  7.48201664e-01 -3.29110830e-02 -4.58917940e-01\n",
      "  -5.63184533e-01 -1.76276000e-01 -3.76193679e-01 -1.49094890e-02\n",
      "   1.05530367e+00  9.26621071e-01  7.18794907e-01  8.44471914e-01\n",
      "   4.47275962e-01  1.09172534e+00  5.80843939e-01 -4.47330484e-01\n",
      "  -1.01118792e+00  9.10702571e-02  3.86787081e-01 -3.71822388e-01\n",
      "   1.52696015e+00  1.68577671e+00 -9.12601212e-01  2.23171110e-03\n",
      "   9.27943836e-02 -2.39808457e-01  1.53477342e+00  3.09595668e-01\n",
      "  -4.78430495e-01  3.83001772e-01 -4.59079245e-01  1.30010494e+00\n",
      "  -7.07664705e-01 -1.65523293e+00 -4.23164159e-01  5.47683944e-01\n",
      "  -1.78972292e-01 -3.52214602e-01  1.83859845e+00 -1.84440465e+00\n",
      "   2.29218335e+00 -2.14839837e-02  7.32011929e-02 -7.72958075e-01\n",
      "  -3.73774400e-01 -1.31698968e+00 -1.09512786e+00  7.18949394e-01\n",
      "  -8.42462980e-01 -9.73472531e-01 -6.07393034e-01  2.30386290e+00\n",
      "   1.07917990e+00 -4.75072955e-01 -1.10128037e+00 -3.21568219e-01\n",
      "  -7.74873388e-01 -5.76290951e-01  1.49269457e-01  4.65743807e-01\n",
      "   2.08573236e-02 -3.09640472e-03 -7.96471902e-01  8.51207828e-01\n",
      "  -4.57299267e-01  1.94926164e+00  6.93060519e-02  1.61580452e-01\n",
      "  -6.25231493e-01 -1.02694801e+00  1.00824272e+00  8.63510505e-01\n",
      "  -1.84963389e+00 -1.37994588e+00]]\n"
     ]
    }
   ],
   "source": [
    "print(conditional_input)\n",
    "print(latent_vector)"
   ]
  },
  {
   "cell_type": "code",
   "execution_count": 139,
   "id": "ffb3352b-3d22-477d-a5ce-367df7e5735c",
   "metadata": {
    "colab": {
     "base_uri": "https://localhost:8080/",
     "height": 106
    },
    "id": "ffb3352b-3d22-477d-a5ce-367df7e5735c",
    "outputId": "7c863855-29b6-4040-d68a-8dd5e0e0823a"
   },
   "outputs": [
    {
     "ename": "SyntaxError",
     "evalue": "incomplete input (<ipython-input-139-424fbb3a34c5>, line 1)",
     "output_type": "error",
     "traceback": [
      "\u001b[0;36m  File \u001b[0;32m\"<ipython-input-139-424fbb3a34c5>\"\u001b[0;36m, line \u001b[0;32m1\u001b[0m\n\u001b[0;31m    print(\u001b[0m\n\u001b[0m          ^\u001b[0m\n\u001b[0;31mSyntaxError\u001b[0m\u001b[0;31m:\u001b[0m incomplete input\n"
     ]
    }
   ],
   "source": [
    "print("
   ]
  },
  {
   "cell_type": "code",
   "execution_count": null,
   "id": "92212366-d9f5-404f-b7bb-6eb2c98a3f1f",
   "metadata": {
    "id": "92212366-d9f5-404f-b7bb-6eb2c98a3f1f"
   },
   "outputs": [],
   "source": [
    "generator.save('generator.h5')\n",
    "discriminator.save('discriminator.h5')\n",
    "gan.save(\"gan.h5\")"
   ]
  },
  {
   "cell_type": "code",
   "execution_count": null,
   "id": "278ba8e0-aca9-408b-989d-4dbe7471ee5d",
   "metadata": {
    "id": "278ba8e0-aca9-408b-989d-4dbe7471ee5d"
   },
   "outputs": [],
   "source": [
    "# Latih GAN\n",
    "d_losses_real, d_losses_fake, g_losses = train_gan(gan, generator, discriminator, XTrain, YTrain, latent_dim)"
   ]
  },
  {
   "cell_type": "code",
   "execution_count": null,
   "id": "9590b17e-787c-4cb9-9d3d-f70aac3566ef",
   "metadata": {
    "id": "9590b17e-787c-4cb9-9d3d-f70aac3566ef"
   },
   "outputs": [],
   "source": [
    "# plt.plot(d_losses_real, label='Discriminator loss real')\n",
    "plt.plot(d_losses_fake, label='Discrimator loss fake')\n",
    "plt.plot(g_losses, label=\"Generator losses\")\n",
    "plt.legend()\n",
    "plt.show()\n",
    "\n",
    "# d_losses_real, d_losses_fake, g_losses"
   ]
  },
  {
   "cell_type": "code",
   "execution_count": null,
   "id": "9e504bcb-c2aa-41c7-8305-61f19c695eba",
   "metadata": {
    "id": "9e504bcb-c2aa-41c7-8305-61f19c695eba"
   },
   "outputs": [],
   "source": [
    "generatorLoaded = load_model(\"generator.h5\")\n",
    "discriminatorLoaded = load_model(\"discriminator.h5\")\n",
    "ganLoaded = load_model(\"gan.h5\")"
   ]
  },
  {
   "cell_type": "markdown",
   "id": "23a16e59-db00-4e68-b869-ab3b69abba3b",
   "metadata": {
    "id": "23a16e59-db00-4e68-b869-ab3b69abba3b"
   },
   "source": [
    "# Data Test"
   ]
  },
  {
   "cell_type": "code",
   "execution_count": 140,
   "id": "9c9f88ac-59fd-4da4-a75c-5e0ee5febeba",
   "metadata": {
    "id": "9c9f88ac-59fd-4da4-a75c-5e0ee5febeba"
   },
   "outputs": [],
   "source": [
    "XTest = np.concatenate((encodedDataTest[\"X\"][0], encodedDataTest[\"X\"][1], encodedDataTest[\"X\"][2], encodedDataTest[\"X\"][3], encodedDataTest[\"X\"][4], encodedDataTest[\"X\"][5], encodedDataTest[\"X\"][6], encodedDataTest[\"X\"][7], encodedDataTest[\"X\"][8], encodedDataTest[\"X\"][9], encodedDataTest[\"X\"][10]), axis=1)"
   ]
  },
  {
   "cell_type": "code",
   "execution_count": 141,
   "id": "1d1bb4ee-6cd9-43ac-90bc-b3ce371e6b9e",
   "metadata": {
    "colab": {
     "base_uri": "https://localhost:8080/"
    },
    "id": "1d1bb4ee-6cd9-43ac-90bc-b3ce371e6b9e",
    "outputId": "b4659c3b-b874-46bf-a74c-74102a8f90d7"
   },
   "outputs": [
    {
     "data": {
      "text/plain": [
       "75"
      ]
     },
     "execution_count": 141,
     "metadata": {},
     "output_type": "execute_result"
    }
   ],
   "source": [
    "XTest.shape[1]"
   ]
  },
  {
   "cell_type": "code",
   "execution_count": 142,
   "id": "762e005d-23ee-4126-b409-f0e2becbe336",
   "metadata": {
    "id": "762e005d-23ee-4126-b409-f0e2becbe336"
   },
   "outputs": [],
   "source": [
    "YTest = np.concatenate((\n",
    "    encodedDataTest[\"Y_kenong\"][0], encodedDataTest[\"Y_kenong\"][1], encodedDataTest[\"Y_kenong\"][2], encodedDataTest[\"Y_kenong\"][3], encodedDataTest[\"Y_kenong\"][4], encodedDataTest[\"Y_kenong\"][5], encodedDataTest[\"Y_kenong\"][6], encodedDataTest[\"Y_kenong\"][7],\n",
    "    encodedDataTest[\"Y_kethuk\"][0], encodedDataTest[\"Y_kethuk\"][1], encodedDataTest[\"Y_kethuk\"][2], encodedDataTest[\"Y_kethuk\"][3], encodedDataTest[\"Y_kethuk\"][4], encodedDataTest[\"Y_kethuk\"][5], encodedDataTest[\"Y_kethuk\"][6], encodedDataTest[\"Y_kethuk\"][7],\n",
    "    encodedDataTest[\"Y_kempul\"][0], encodedDataTest[\"Y_kempul\"][1], encodedDataTest[\"Y_kempul\"][2], encodedDataTest[\"Y_kempul\"][3],\n",
    "    encodedDataTest[\"Y_gong\"][0], encodedDataTest[\"Y_gong\"][1],\n",
    "    encodedDataTest[\"Y_kempyang\"][0], encodedDataTest[\"Y_kempyang\"][1], encodedDataTest[\"Y_kempyang\"][2], encodedDataTest[\"Y_kempyang\"][3], encodedDataTest[\"Y_kempyang\"][4], encodedDataTest[\"Y_kempyang\"][5], encodedDataTest[\"Y_kempyang\"][6], encodedDataTest[\"Y_kempyang\"][7],\n",
    "    encodedDataTest[\"Y_bb\"][0], encodedDataTest[\"Y_bb\"][1], encodedDataTest[\"Y_bb\"][2], encodedDataTest[\"Y_bb\"][3], encodedDataTest[\"Y_bb\"][4], encodedDataTest[\"Y_bb\"][5], encodedDataTest[\"Y_bb\"][6], encodedDataTest[\"Y_bb\"][7], encodedDataTest[\"Y_bb\"][8], encodedDataTest[\"Y_bb\"][9], encodedDataTest[\"Y_bb\"][10], encodedDataTest[\"Y_bb\"][11], encodedDataTest[\"Y_bb\"][12], encodedDataTest[\"Y_bb\"][13], encodedDataTest[\"Y_bb\"][14], encodedDataTest[\"Y_bb\"][15], encodedDataTest[\"Y_bb\"][16],\n",
    "    encodedDataTest[\"Y_bb\"][17], encodedDataTest[\"Y_bb\"][18], encodedDataTest[\"Y_bb\"][19], encodedDataTest[\"Y_bb\"][20], encodedDataTest[\"Y_bb\"][21], encodedDataTest[\"Y_bb\"][22], encodedDataTest[\"Y_bb\"][23], encodedDataTest[\"Y_bb\"][24], encodedDataTest[\"Y_bb\"][25], encodedDataTest[\"Y_bb\"][26], encodedDataTest[\"Y_bb\"][27], encodedDataTest[\"Y_bb\"][28], encodedDataTest[\"Y_bb\"][29], encodedDataTest[\"Y_bb\"][30], encodedDataTest[\"Y_bb\"][31],\n",
    "    encodedDataTest[\"Y_bp\"][0], encodedDataTest[\"Y_bp\"][1], encodedDataTest[\"Y_bp\"][2], encodedDataTest[\"Y_bp\"][3], encodedDataTest[\"Y_bp\"][4], encodedDataTest[\"Y_bp\"][5], encodedDataTest[\"Y_bp\"][6], encodedDataTest[\"Y_bp\"][7], encodedDataTest[\"Y_bp\"][8], encodedDataTest[\"Y_bp\"][9], encodedDataTest[\"Y_bp\"][10], encodedDataTest[\"Y_bp\"][11], encodedDataTest[\"Y_bp\"][12], encodedDataTest[\"Y_bp\"][13], encodedDataTest[\"Y_bp\"][14], encodedDataTest[\"Y_bp\"][15], encodedDataTest[\"Y_bp\"][16],\n",
    "    encodedDataTest[\"Y_bp\"][17], encodedDataTest[\"Y_bp\"][18], encodedDataTest[\"Y_bp\"][19], encodedDataTest[\"Y_bp\"][20], encodedDataTest[\"Y_bp\"][21], encodedDataTest[\"Y_bp\"][22], encodedDataTest[\"Y_bp\"][23], encodedDataTest[\"Y_bp\"][24], encodedDataTest[\"Y_bp\"][25], encodedDataTest[\"Y_bp\"][26], encodedDataTest[\"Y_bp\"][27], encodedDataTest[\"Y_bp\"][28], encodedDataTest[\"Y_bp\"][29], encodedDataTest[\"Y_bp\"][30], encodedDataTest[\"Y_bp\"][31], encodedDataTest[\"Y_bp\"][32],\n",
    "    encodedDataTest[\"Y_bp\"][33], encodedDataTest[\"Y_bp\"][34], encodedDataTest[\"Y_bp\"][35], encodedDataTest[\"Y_bp\"][36], encodedDataTest[\"Y_bp\"][37], encodedDataTest[\"Y_bp\"][38], encodedDataTest[\"Y_bp\"][39], encodedDataTest[\"Y_bp\"][40], encodedDataTest[\"Y_bp\"][41], encodedDataTest[\"Y_bp\"][42], encodedDataTest[\"Y_bp\"][43], encodedDataTest[\"Y_bp\"][44], encodedDataTest[\"Y_bp\"][45], encodedDataTest[\"Y_bp\"][46], encodedDataTest[\"Y_bp\"][47], encodedDataTest[\"Y_bp\"][48],\n",
    "    encodedDataTest[\"Y_bp\"][49], encodedDataTest[\"Y_bp\"][50], encodedDataTest[\"Y_bp\"][51], encodedDataTest[\"Y_bp\"][52], encodedDataTest[\"Y_bp\"][53], encodedDataTest[\"Y_bp\"][54], encodedDataTest[\"Y_bp\"][55], encodedDataTest[\"Y_bp\"][56], encodedDataTest[\"Y_bp\"][57], encodedDataTest[\"Y_bp\"][58], encodedDataTest[\"Y_bp\"][59], encodedDataTest[\"Y_bp\"][60], encodedDataTest[\"Y_bp\"][61], encodedDataTest[\"Y_bp\"][62], encodedDataTest[\"Y_bp\"][63],\n",
    "    encodedDataTest[\"Y_peking\"][0], encodedDataTest[\"Y_peking\"][1], encodedDataTest[\"Y_peking\"][2], encodedDataTest[\"Y_peking\"][3], encodedDataTest[\"Y_peking\"][4], encodedDataTest[\"Y_peking\"][5], encodedDataTest[\"Y_peking\"][6], encodedDataTest[\"Y_peking\"][7], encodedDataTest[\"Y_peking\"][8], encodedDataTest[\"Y_peking\"][9], encodedDataTest[\"Y_peking\"][10], encodedDataTest[\"Y_peking\"][11], encodedDataTest[\"Y_peking\"][12], encodedDataTest[\"Y_peking\"][13], encodedDataTest[\"Y_peking\"][14], encodedDataTest[\"Y_peking\"][15], encodedDataTest[\"Y_peking\"][16],\n",
    "    encodedDataTest[\"Y_peking\"][17], encodedDataTest[\"Y_peking\"][18], encodedDataTest[\"Y_peking\"][19], encodedDataTest[\"Y_peking\"][20], encodedDataTest[\"Y_peking\"][21], encodedDataTest[\"Y_peking\"][22], encodedDataTest[\"Y_peking\"][23], encodedDataTest[\"Y_peking\"][24], encodedDataTest[\"Y_peking\"][25], encodedDataTest[\"Y_peking\"][26], encodedDataTest[\"Y_peking\"][27], encodedDataTest[\"Y_peking\"][28], encodedDataTest[\"Y_peking\"][29], encodedDataTest[\"Y_peking\"][30], encodedDataTest[\"Y_peking\"][31]\n",
    "), axis=1)"
   ]
  },
  {
   "cell_type": "code",
   "execution_count": 143,
   "id": "93278ba4-b36e-457a-a163-3ecef62a5d2d",
   "metadata": {
    "colab": {
     "base_uri": "https://localhost:8080/"
    },
    "id": "93278ba4-b36e-457a-a163-3ecef62a5d2d",
    "outputId": "4fadb3ca-42fa-49c7-8ba9-9a6a4070a8b8"
   },
   "outputs": [
    {
     "data": {
      "text/plain": [
       "728"
      ]
     },
     "execution_count": 143,
     "metadata": {},
     "output_type": "execute_result"
    }
   ],
   "source": [
    "YTest.shape[1]"
   ]
  },
  {
   "cell_type": "code",
   "execution_count": 144,
   "id": "1553402d-27ae-48ae-946c-ce4c7f48000d",
   "metadata": {
    "colab": {
     "base_uri": "https://localhost:8080/"
    },
    "id": "1553402d-27ae-48ae-946c-ce4c7f48000d",
    "outputId": "99b25e54-3cc3-43b7-8938-50b5ef765c8d"
   },
   "outputs": [
    {
     "name": "stderr",
     "output_type": "stream",
     "text": [
      "/usr/local/lib/python3.10/dist-packages/keras/src/layers/activations/leaky_relu.py:41: UserWarning: Argument `alpha` is deprecated. Use `negative_slope` instead.\n",
      "  warnings.warn(\n",
      "/usr/local/lib/python3.10/dist-packages/keras/src/layers/core/dense.py:87: UserWarning: Do not pass an `input_shape`/`input_dim` argument to a layer. When using Sequential models, prefer using an `Input(shape)` object as the first layer in the model instead.\n",
      "  super().__init__(activity_regularizer=activity_regularizer, **kwargs)\n"
     ]
    }
   ],
   "source": [
    "latent_dim = 75\n",
    "conditional_dim = XTest.shape[1]\n",
    "output_dim = YTest.shape[1]\n",
    "\n",
    "generator = buildGenerator(latent_dim, conditional_dim, output_dim)\n",
    "discriminator = buildDiscriminator(output_dim)\n",
    "discriminator.compile(loss='binary_crossentropy', optimizer=Adam(learning_rate=0.0002, beta_1=0.5), metrics=['accuracy'])\n",
    "discriminator.trainable = True"
   ]
  },
  {
   "cell_type": "code",
   "execution_count": 145,
   "id": "2d51e045-f8d8-4ca1-bbab-2585390a6d86",
   "metadata": {
    "colab": {
     "base_uri": "https://localhost:8080/",
     "height": 578
    },
    "id": "2d51e045-f8d8-4ca1-bbab-2585390a6d86",
    "outputId": "98f83f9c-bb6f-4ad4-ad5e-726d8df7aa57"
   },
   "outputs": [
    {
     "data": {
      "text/html": [
       "<pre style=\"white-space:pre;overflow-x:auto;line-height:normal;font-family:Menlo,'DejaVu Sans Mono',consolas,'Courier New',monospace\"><span style=\"font-weight: bold\">Model: \"functional_36\"</span>\n",
       "</pre>\n"
      ],
      "text/plain": [
       "\u001b[1mModel: \"functional_36\"\u001b[0m\n"
      ]
     },
     "metadata": {},
     "output_type": "display_data"
    },
    {
     "data": {
      "text/html": [
       "<pre style=\"white-space:pre;overflow-x:auto;line-height:normal;font-family:Menlo,'DejaVu Sans Mono',consolas,'Courier New',monospace\">┏━━━━━━━━━━━━━━━━━━━━━━━━━━━┳━━━━━━━━━━━━━━━━━━━━━━━━┳━━━━━━━━━━━━━━━━┳━━━━━━━━━━━━━━━━━━━━━━━━┓\n",
       "┃<span style=\"font-weight: bold\"> Layer (type)              </span>┃<span style=\"font-weight: bold\"> Output Shape           </span>┃<span style=\"font-weight: bold\">        Param # </span>┃<span style=\"font-weight: bold\"> Connected to           </span>┃\n",
       "┡━━━━━━━━━━━━━━━━━━━━━━━━━━━╇━━━━━━━━━━━━━━━━━━━━━━━━╇━━━━━━━━━━━━━━━━╇━━━━━━━━━━━━━━━━━━━━━━━━┩\n",
       "│ input_layer_20            │ (<span style=\"color: #00d7ff; text-decoration-color: #00d7ff\">None</span>, <span style=\"color: #00af00; text-decoration-color: #00af00\">75</span>)             │              <span style=\"color: #00af00; text-decoration-color: #00af00\">0</span> │ -                      │\n",
       "│ (<span style=\"color: #0087ff; text-decoration-color: #0087ff\">InputLayer</span>)              │                        │                │                        │\n",
       "├───────────────────────────┼────────────────────────┼────────────────┼────────────────────────┤\n",
       "│ input_layer_21            │ (<span style=\"color: #00d7ff; text-decoration-color: #00d7ff\">None</span>, <span style=\"color: #00af00; text-decoration-color: #00af00\">75</span>)             │              <span style=\"color: #00af00; text-decoration-color: #00af00\">0</span> │ -                      │\n",
       "│ (<span style=\"color: #0087ff; text-decoration-color: #0087ff\">InputLayer</span>)              │                        │                │                        │\n",
       "├───────────────────────────┼────────────────────────┼────────────────┼────────────────────────┤\n",
       "│ concatenate_4             │ (<span style=\"color: #00d7ff; text-decoration-color: #00d7ff\">None</span>, <span style=\"color: #00af00; text-decoration-color: #00af00\">150</span>)            │              <span style=\"color: #00af00; text-decoration-color: #00af00\">0</span> │ input_layer_20[<span style=\"color: #00af00; text-decoration-color: #00af00\">0</span>][<span style=\"color: #00af00; text-decoration-color: #00af00\">0</span>],  │\n",
       "│ (<span style=\"color: #0087ff; text-decoration-color: #0087ff\">Concatenate</span>)             │                        │                │ input_layer_21[<span style=\"color: #00af00; text-decoration-color: #00af00\">0</span>][<span style=\"color: #00af00; text-decoration-color: #00af00\">0</span>]   │\n",
       "├───────────────────────────┼────────────────────────┼────────────────┼────────────────────────┤\n",
       "│ dense_28 (<span style=\"color: #0087ff; text-decoration-color: #0087ff\">Dense</span>)          │ (<span style=\"color: #00d7ff; text-decoration-color: #00d7ff\">None</span>, <span style=\"color: #00af00; text-decoration-color: #00af00\">128</span>)            │         <span style=\"color: #00af00; text-decoration-color: #00af00\">19,328</span> │ concatenate_4[<span style=\"color: #00af00; text-decoration-color: #00af00\">0</span>][<span style=\"color: #00af00; text-decoration-color: #00af00\">0</span>]    │\n",
       "├───────────────────────────┼────────────────────────┼────────────────┼────────────────────────┤\n",
       "│ leaky_re_lu_20            │ (<span style=\"color: #00d7ff; text-decoration-color: #00d7ff\">None</span>, <span style=\"color: #00af00; text-decoration-color: #00af00\">128</span>)            │              <span style=\"color: #00af00; text-decoration-color: #00af00\">0</span> │ dense_28[<span style=\"color: #00af00; text-decoration-color: #00af00\">0</span>][<span style=\"color: #00af00; text-decoration-color: #00af00\">0</span>]         │\n",
       "│ (<span style=\"color: #0087ff; text-decoration-color: #0087ff\">LeakyReLU</span>)               │                        │                │                        │\n",
       "├───────────────────────────┼────────────────────────┼────────────────┼────────────────────────┤\n",
       "│ dense_29 (<span style=\"color: #0087ff; text-decoration-color: #0087ff\">Dense</span>)          │ (<span style=\"color: #00d7ff; text-decoration-color: #00d7ff\">None</span>, <span style=\"color: #00af00; text-decoration-color: #00af00\">256</span>)            │         <span style=\"color: #00af00; text-decoration-color: #00af00\">33,024</span> │ leaky_re_lu_20[<span style=\"color: #00af00; text-decoration-color: #00af00\">0</span>][<span style=\"color: #00af00; text-decoration-color: #00af00\">0</span>]   │\n",
       "├───────────────────────────┼────────────────────────┼────────────────┼────────────────────────┤\n",
       "│ leaky_re_lu_21            │ (<span style=\"color: #00d7ff; text-decoration-color: #00d7ff\">None</span>, <span style=\"color: #00af00; text-decoration-color: #00af00\">256</span>)            │              <span style=\"color: #00af00; text-decoration-color: #00af00\">0</span> │ dense_29[<span style=\"color: #00af00; text-decoration-color: #00af00\">0</span>][<span style=\"color: #00af00; text-decoration-color: #00af00\">0</span>]         │\n",
       "│ (<span style=\"color: #0087ff; text-decoration-color: #0087ff\">LeakyReLU</span>)               │                        │                │                        │\n",
       "├───────────────────────────┼────────────────────────┼────────────────┼────────────────────────┤\n",
       "│ dense_30 (<span style=\"color: #0087ff; text-decoration-color: #0087ff\">Dense</span>)          │ (<span style=\"color: #00d7ff; text-decoration-color: #00d7ff\">None</span>, <span style=\"color: #00af00; text-decoration-color: #00af00\">512</span>)            │        <span style=\"color: #00af00; text-decoration-color: #00af00\">131,584</span> │ leaky_re_lu_21[<span style=\"color: #00af00; text-decoration-color: #00af00\">0</span>][<span style=\"color: #00af00; text-decoration-color: #00af00\">0</span>]   │\n",
       "├───────────────────────────┼────────────────────────┼────────────────┼────────────────────────┤\n",
       "│ leaky_re_lu_22            │ (<span style=\"color: #00d7ff; text-decoration-color: #00d7ff\">None</span>, <span style=\"color: #00af00; text-decoration-color: #00af00\">512</span>)            │              <span style=\"color: #00af00; text-decoration-color: #00af00\">0</span> │ dense_30[<span style=\"color: #00af00; text-decoration-color: #00af00\">0</span>][<span style=\"color: #00af00; text-decoration-color: #00af00\">0</span>]         │\n",
       "│ (<span style=\"color: #0087ff; text-decoration-color: #0087ff\">LeakyReLU</span>)               │                        │                │                        │\n",
       "├───────────────────────────┼────────────────────────┼────────────────┼────────────────────────┤\n",
       "│ dense_31 (<span style=\"color: #0087ff; text-decoration-color: #0087ff\">Dense</span>)          │ (<span style=\"color: #00d7ff; text-decoration-color: #00d7ff\">None</span>, <span style=\"color: #00af00; text-decoration-color: #00af00\">728</span>)            │        <span style=\"color: #00af00; text-decoration-color: #00af00\">373,464</span> │ leaky_re_lu_22[<span style=\"color: #00af00; text-decoration-color: #00af00\">0</span>][<span style=\"color: #00af00; text-decoration-color: #00af00\">0</span>]   │\n",
       "└───────────────────────────┴────────────────────────┴────────────────┴────────────────────────┘\n",
       "</pre>\n"
      ],
      "text/plain": [
       "┏━━━━━━━━━━━━━━━━━━━━━━━━━━━┳━━━━━━━━━━━━━━━━━━━━━━━━┳━━━━━━━━━━━━━━━━┳━━━━━━━━━━━━━━━━━━━━━━━━┓\n",
       "┃\u001b[1m \u001b[0m\u001b[1mLayer (type)             \u001b[0m\u001b[1m \u001b[0m┃\u001b[1m \u001b[0m\u001b[1mOutput Shape          \u001b[0m\u001b[1m \u001b[0m┃\u001b[1m \u001b[0m\u001b[1m       Param #\u001b[0m\u001b[1m \u001b[0m┃\u001b[1m \u001b[0m\u001b[1mConnected to          \u001b[0m\u001b[1m \u001b[0m┃\n",
       "┡━━━━━━━━━━━━━━━━━━━━━━━━━━━╇━━━━━━━━━━━━━━━━━━━━━━━━╇━━━━━━━━━━━━━━━━╇━━━━━━━━━━━━━━━━━━━━━━━━┩\n",
       "│ input_layer_20            │ (\u001b[38;5;45mNone\u001b[0m, \u001b[38;5;34m75\u001b[0m)             │              \u001b[38;5;34m0\u001b[0m │ -                      │\n",
       "│ (\u001b[38;5;33mInputLayer\u001b[0m)              │                        │                │                        │\n",
       "├───────────────────────────┼────────────────────────┼────────────────┼────────────────────────┤\n",
       "│ input_layer_21            │ (\u001b[38;5;45mNone\u001b[0m, \u001b[38;5;34m75\u001b[0m)             │              \u001b[38;5;34m0\u001b[0m │ -                      │\n",
       "│ (\u001b[38;5;33mInputLayer\u001b[0m)              │                        │                │                        │\n",
       "├───────────────────────────┼────────────────────────┼────────────────┼────────────────────────┤\n",
       "│ concatenate_4             │ (\u001b[38;5;45mNone\u001b[0m, \u001b[38;5;34m150\u001b[0m)            │              \u001b[38;5;34m0\u001b[0m │ input_layer_20[\u001b[38;5;34m0\u001b[0m][\u001b[38;5;34m0\u001b[0m],  │\n",
       "│ (\u001b[38;5;33mConcatenate\u001b[0m)             │                        │                │ input_layer_21[\u001b[38;5;34m0\u001b[0m][\u001b[38;5;34m0\u001b[0m]   │\n",
       "├───────────────────────────┼────────────────────────┼────────────────┼────────────────────────┤\n",
       "│ dense_28 (\u001b[38;5;33mDense\u001b[0m)          │ (\u001b[38;5;45mNone\u001b[0m, \u001b[38;5;34m128\u001b[0m)            │         \u001b[38;5;34m19,328\u001b[0m │ concatenate_4[\u001b[38;5;34m0\u001b[0m][\u001b[38;5;34m0\u001b[0m]    │\n",
       "├───────────────────────────┼────────────────────────┼────────────────┼────────────────────────┤\n",
       "│ leaky_re_lu_20            │ (\u001b[38;5;45mNone\u001b[0m, \u001b[38;5;34m128\u001b[0m)            │              \u001b[38;5;34m0\u001b[0m │ dense_28[\u001b[38;5;34m0\u001b[0m][\u001b[38;5;34m0\u001b[0m]         │\n",
       "│ (\u001b[38;5;33mLeakyReLU\u001b[0m)               │                        │                │                        │\n",
       "├───────────────────────────┼────────────────────────┼────────────────┼────────────────────────┤\n",
       "│ dense_29 (\u001b[38;5;33mDense\u001b[0m)          │ (\u001b[38;5;45mNone\u001b[0m, \u001b[38;5;34m256\u001b[0m)            │         \u001b[38;5;34m33,024\u001b[0m │ leaky_re_lu_20[\u001b[38;5;34m0\u001b[0m][\u001b[38;5;34m0\u001b[0m]   │\n",
       "├───────────────────────────┼────────────────────────┼────────────────┼────────────────────────┤\n",
       "│ leaky_re_lu_21            │ (\u001b[38;5;45mNone\u001b[0m, \u001b[38;5;34m256\u001b[0m)            │              \u001b[38;5;34m0\u001b[0m │ dense_29[\u001b[38;5;34m0\u001b[0m][\u001b[38;5;34m0\u001b[0m]         │\n",
       "│ (\u001b[38;5;33mLeakyReLU\u001b[0m)               │                        │                │                        │\n",
       "├───────────────────────────┼────────────────────────┼────────────────┼────────────────────────┤\n",
       "│ dense_30 (\u001b[38;5;33mDense\u001b[0m)          │ (\u001b[38;5;45mNone\u001b[0m, \u001b[38;5;34m512\u001b[0m)            │        \u001b[38;5;34m131,584\u001b[0m │ leaky_re_lu_21[\u001b[38;5;34m0\u001b[0m][\u001b[38;5;34m0\u001b[0m]   │\n",
       "├───────────────────────────┼────────────────────────┼────────────────┼────────────────────────┤\n",
       "│ leaky_re_lu_22            │ (\u001b[38;5;45mNone\u001b[0m, \u001b[38;5;34m512\u001b[0m)            │              \u001b[38;5;34m0\u001b[0m │ dense_30[\u001b[38;5;34m0\u001b[0m][\u001b[38;5;34m0\u001b[0m]         │\n",
       "│ (\u001b[38;5;33mLeakyReLU\u001b[0m)               │                        │                │                        │\n",
       "├───────────────────────────┼────────────────────────┼────────────────┼────────────────────────┤\n",
       "│ dense_31 (\u001b[38;5;33mDense\u001b[0m)          │ (\u001b[38;5;45mNone\u001b[0m, \u001b[38;5;34m728\u001b[0m)            │        \u001b[38;5;34m373,464\u001b[0m │ leaky_re_lu_22[\u001b[38;5;34m0\u001b[0m][\u001b[38;5;34m0\u001b[0m]   │\n",
       "└───────────────────────────┴────────────────────────┴────────────────┴────────────────────────┘\n"
      ]
     },
     "metadata": {},
     "output_type": "display_data"
    },
    {
     "data": {
      "text/html": [
       "<pre style=\"white-space:pre;overflow-x:auto;line-height:normal;font-family:Menlo,'DejaVu Sans Mono',consolas,'Courier New',monospace\"><span style=\"font-weight: bold\"> Total params: </span><span style=\"color: #00af00; text-decoration-color: #00af00\">557,400</span> (2.13 MB)\n",
       "</pre>\n"
      ],
      "text/plain": [
       "\u001b[1m Total params: \u001b[0m\u001b[38;5;34m557,400\u001b[0m (2.13 MB)\n"
      ]
     },
     "metadata": {},
     "output_type": "display_data"
    },
    {
     "data": {
      "text/html": [
       "<pre style=\"white-space:pre;overflow-x:auto;line-height:normal;font-family:Menlo,'DejaVu Sans Mono',consolas,'Courier New',monospace\"><span style=\"font-weight: bold\"> Trainable params: </span><span style=\"color: #00af00; text-decoration-color: #00af00\">557,400</span> (2.13 MB)\n",
       "</pre>\n"
      ],
      "text/plain": [
       "\u001b[1m Trainable params: \u001b[0m\u001b[38;5;34m557,400\u001b[0m (2.13 MB)\n"
      ]
     },
     "metadata": {},
     "output_type": "display_data"
    },
    {
     "data": {
      "text/html": [
       "<pre style=\"white-space:pre;overflow-x:auto;line-height:normal;font-family:Menlo,'DejaVu Sans Mono',consolas,'Courier New',monospace\"><span style=\"font-weight: bold\"> Non-trainable params: </span><span style=\"color: #00af00; text-decoration-color: #00af00\">0</span> (0.00 B)\n",
       "</pre>\n"
      ],
      "text/plain": [
       "\u001b[1m Non-trainable params: \u001b[0m\u001b[38;5;34m0\u001b[0m (0.00 B)\n"
      ]
     },
     "metadata": {},
     "output_type": "display_data"
    }
   ],
   "source": [
    "generator.summary()"
   ]
  },
  {
   "cell_type": "code",
   "execution_count": 146,
   "id": "92c672d0-8a51-4165-b2e0-ff60e5d4e8cb",
   "metadata": {
    "colab": {
     "base_uri": "https://localhost:8080/",
     "height": 374
    },
    "id": "92c672d0-8a51-4165-b2e0-ff60e5d4e8cb",
    "outputId": "f1b690bc-1ac6-47ef-ead8-861f4585e216"
   },
   "outputs": [
    {
     "data": {
      "text/html": [
       "<pre style=\"white-space:pre;overflow-x:auto;line-height:normal;font-family:Menlo,'DejaVu Sans Mono',consolas,'Courier New',monospace\"><span style=\"font-weight: bold\">Model: \"sequential_4\"</span>\n",
       "</pre>\n"
      ],
      "text/plain": [
       "\u001b[1mModel: \"sequential_4\"\u001b[0m\n"
      ]
     },
     "metadata": {},
     "output_type": "display_data"
    },
    {
     "data": {
      "text/html": [
       "<pre style=\"white-space:pre;overflow-x:auto;line-height:normal;font-family:Menlo,'DejaVu Sans Mono',consolas,'Courier New',monospace\">┏━━━━━━━━━━━━━━━━━━━━━━━━━━━━━━━━━━━━━━┳━━━━━━━━━━━━━━━━━━━━━━━━━━━━━┳━━━━━━━━━━━━━━━━━┓\n",
       "┃<span style=\"font-weight: bold\"> Layer (type)                         </span>┃<span style=\"font-weight: bold\"> Output Shape                </span>┃<span style=\"font-weight: bold\">         Param # </span>┃\n",
       "┡━━━━━━━━━━━━━━━━━━━━━━━━━━━━━━━━━━━━━━╇━━━━━━━━━━━━━━━━━━━━━━━━━━━━━╇━━━━━━━━━━━━━━━━━┩\n",
       "│ dense_32 (<span style=\"color: #0087ff; text-decoration-color: #0087ff\">Dense</span>)                     │ (<span style=\"color: #00d7ff; text-decoration-color: #00d7ff\">None</span>, <span style=\"color: #00af00; text-decoration-color: #00af00\">512</span>)                 │         <span style=\"color: #00af00; text-decoration-color: #00af00\">373,248</span> │\n",
       "├──────────────────────────────────────┼─────────────────────────────┼─────────────────┤\n",
       "│ leaky_re_lu_23 (<span style=\"color: #0087ff; text-decoration-color: #0087ff\">LeakyReLU</span>)           │ (<span style=\"color: #00d7ff; text-decoration-color: #00d7ff\">None</span>, <span style=\"color: #00af00; text-decoration-color: #00af00\">512</span>)                 │               <span style=\"color: #00af00; text-decoration-color: #00af00\">0</span> │\n",
       "├──────────────────────────────────────┼─────────────────────────────┼─────────────────┤\n",
       "│ dropout_8 (<span style=\"color: #0087ff; text-decoration-color: #0087ff\">Dropout</span>)                  │ (<span style=\"color: #00d7ff; text-decoration-color: #00d7ff\">None</span>, <span style=\"color: #00af00; text-decoration-color: #00af00\">512</span>)                 │               <span style=\"color: #00af00; text-decoration-color: #00af00\">0</span> │\n",
       "├──────────────────────────────────────┼─────────────────────────────┼─────────────────┤\n",
       "│ dense_33 (<span style=\"color: #0087ff; text-decoration-color: #0087ff\">Dense</span>)                     │ (<span style=\"color: #00d7ff; text-decoration-color: #00d7ff\">None</span>, <span style=\"color: #00af00; text-decoration-color: #00af00\">256</span>)                 │         <span style=\"color: #00af00; text-decoration-color: #00af00\">131,328</span> │\n",
       "├──────────────────────────────────────┼─────────────────────────────┼─────────────────┤\n",
       "│ leaky_re_lu_24 (<span style=\"color: #0087ff; text-decoration-color: #0087ff\">LeakyReLU</span>)           │ (<span style=\"color: #00d7ff; text-decoration-color: #00d7ff\">None</span>, <span style=\"color: #00af00; text-decoration-color: #00af00\">256</span>)                 │               <span style=\"color: #00af00; text-decoration-color: #00af00\">0</span> │\n",
       "├──────────────────────────────────────┼─────────────────────────────┼─────────────────┤\n",
       "│ dropout_9 (<span style=\"color: #0087ff; text-decoration-color: #0087ff\">Dropout</span>)                  │ (<span style=\"color: #00d7ff; text-decoration-color: #00d7ff\">None</span>, <span style=\"color: #00af00; text-decoration-color: #00af00\">256</span>)                 │               <span style=\"color: #00af00; text-decoration-color: #00af00\">0</span> │\n",
       "├──────────────────────────────────────┼─────────────────────────────┼─────────────────┤\n",
       "│ dense_34 (<span style=\"color: #0087ff; text-decoration-color: #0087ff\">Dense</span>)                     │ (<span style=\"color: #00d7ff; text-decoration-color: #00d7ff\">None</span>, <span style=\"color: #00af00; text-decoration-color: #00af00\">1</span>)                   │             <span style=\"color: #00af00; text-decoration-color: #00af00\">257</span> │\n",
       "└──────────────────────────────────────┴─────────────────────────────┴─────────────────┘\n",
       "</pre>\n"
      ],
      "text/plain": [
       "┏━━━━━━━━━━━━━━━━━━━━━━━━━━━━━━━━━━━━━━┳━━━━━━━━━━━━━━━━━━━━━━━━━━━━━┳━━━━━━━━━━━━━━━━━┓\n",
       "┃\u001b[1m \u001b[0m\u001b[1mLayer (type)                        \u001b[0m\u001b[1m \u001b[0m┃\u001b[1m \u001b[0m\u001b[1mOutput Shape               \u001b[0m\u001b[1m \u001b[0m┃\u001b[1m \u001b[0m\u001b[1m        Param #\u001b[0m\u001b[1m \u001b[0m┃\n",
       "┡━━━━━━━━━━━━━━━━━━━━━━━━━━━━━━━━━━━━━━╇━━━━━━━━━━━━━━━━━━━━━━━━━━━━━╇━━━━━━━━━━━━━━━━━┩\n",
       "│ dense_32 (\u001b[38;5;33mDense\u001b[0m)                     │ (\u001b[38;5;45mNone\u001b[0m, \u001b[38;5;34m512\u001b[0m)                 │         \u001b[38;5;34m373,248\u001b[0m │\n",
       "├──────────────────────────────────────┼─────────────────────────────┼─────────────────┤\n",
       "│ leaky_re_lu_23 (\u001b[38;5;33mLeakyReLU\u001b[0m)           │ (\u001b[38;5;45mNone\u001b[0m, \u001b[38;5;34m512\u001b[0m)                 │               \u001b[38;5;34m0\u001b[0m │\n",
       "├──────────────────────────────────────┼─────────────────────────────┼─────────────────┤\n",
       "│ dropout_8 (\u001b[38;5;33mDropout\u001b[0m)                  │ (\u001b[38;5;45mNone\u001b[0m, \u001b[38;5;34m512\u001b[0m)                 │               \u001b[38;5;34m0\u001b[0m │\n",
       "├──────────────────────────────────────┼─────────────────────────────┼─────────────────┤\n",
       "│ dense_33 (\u001b[38;5;33mDense\u001b[0m)                     │ (\u001b[38;5;45mNone\u001b[0m, \u001b[38;5;34m256\u001b[0m)                 │         \u001b[38;5;34m131,328\u001b[0m │\n",
       "├──────────────────────────────────────┼─────────────────────────────┼─────────────────┤\n",
       "│ leaky_re_lu_24 (\u001b[38;5;33mLeakyReLU\u001b[0m)           │ (\u001b[38;5;45mNone\u001b[0m, \u001b[38;5;34m256\u001b[0m)                 │               \u001b[38;5;34m0\u001b[0m │\n",
       "├──────────────────────────────────────┼─────────────────────────────┼─────────────────┤\n",
       "│ dropout_9 (\u001b[38;5;33mDropout\u001b[0m)                  │ (\u001b[38;5;45mNone\u001b[0m, \u001b[38;5;34m256\u001b[0m)                 │               \u001b[38;5;34m0\u001b[0m │\n",
       "├──────────────────────────────────────┼─────────────────────────────┼─────────────────┤\n",
       "│ dense_34 (\u001b[38;5;33mDense\u001b[0m)                     │ (\u001b[38;5;45mNone\u001b[0m, \u001b[38;5;34m1\u001b[0m)                   │             \u001b[38;5;34m257\u001b[0m │\n",
       "└──────────────────────────────────────┴─────────────────────────────┴─────────────────┘\n"
      ]
     },
     "metadata": {},
     "output_type": "display_data"
    },
    {
     "data": {
      "text/html": [
       "<pre style=\"white-space:pre;overflow-x:auto;line-height:normal;font-family:Menlo,'DejaVu Sans Mono',consolas,'Courier New',monospace\"><span style=\"font-weight: bold\"> Total params: </span><span style=\"color: #00af00; text-decoration-color: #00af00\">504,833</span> (1.93 MB)\n",
       "</pre>\n"
      ],
      "text/plain": [
       "\u001b[1m Total params: \u001b[0m\u001b[38;5;34m504,833\u001b[0m (1.93 MB)\n"
      ]
     },
     "metadata": {},
     "output_type": "display_data"
    },
    {
     "data": {
      "text/html": [
       "<pre style=\"white-space:pre;overflow-x:auto;line-height:normal;font-family:Menlo,'DejaVu Sans Mono',consolas,'Courier New',monospace\"><span style=\"font-weight: bold\"> Trainable params: </span><span style=\"color: #00af00; text-decoration-color: #00af00\">504,833</span> (1.93 MB)\n",
       "</pre>\n"
      ],
      "text/plain": [
       "\u001b[1m Trainable params: \u001b[0m\u001b[38;5;34m504,833\u001b[0m (1.93 MB)\n"
      ]
     },
     "metadata": {},
     "output_type": "display_data"
    },
    {
     "data": {
      "text/html": [
       "<pre style=\"white-space:pre;overflow-x:auto;line-height:normal;font-family:Menlo,'DejaVu Sans Mono',consolas,'Courier New',monospace\"><span style=\"font-weight: bold\"> Non-trainable params: </span><span style=\"color: #00af00; text-decoration-color: #00af00\">0</span> (0.00 B)\n",
       "</pre>\n"
      ],
      "text/plain": [
       "\u001b[1m Non-trainable params: \u001b[0m\u001b[38;5;34m0\u001b[0m (0.00 B)\n"
      ]
     },
     "metadata": {},
     "output_type": "display_data"
    }
   ],
   "source": [
    "discriminator.summary()"
   ]
  },
  {
   "cell_type": "code",
   "execution_count": 147,
   "id": "d658e8be-5bc5-4d90-a0b4-1c571b00b0d3",
   "metadata": {
    "id": "d658e8be-5bc5-4d90-a0b4-1c571b00b0d3"
   },
   "outputs": [],
   "source": [
    "gan = buildGan(generator, discriminator)\n",
    "gan.compile(loss='binary_crossentropy', optimizer=Adam(learning_rate=0.0002, beta_1=0.5))"
   ]
  },
  {
   "cell_type": "code",
   "execution_count": 148,
   "id": "56b5f5db-9eb8-4882-b3c5-71498baae63a",
   "metadata": {
    "colab": {
     "base_uri": "https://localhost:8080/"
    },
    "id": "56b5f5db-9eb8-4882-b3c5-71498baae63a",
    "outputId": "0c176cac-e73c-4484-b982-702a6a1e52ba"
   },
   "outputs": [
    {
     "name": "stderr",
     "output_type": "stream",
     "text": [
      "WARNING:tensorflow:5 out of the last 5 calls to <function TensorFlowTrainer.make_predict_function.<locals>.one_step_on_data_distributed at 0x7d79f08353f0> triggered tf.function retracing. Tracing is expensive and the excessive number of tracings could be due to (1) creating @tf.function repeatedly in a loop, (2) passing tensors with different shapes, (3) passing Python objects instead of tensors. For (1), please define your @tf.function outside of the loop. For (2), @tf.function has reduce_retracing=True option that can avoid unnecessary retracing. For (3), please refer to https://www.tensorflow.org/guide/function#controlling_retracing and https://www.tensorflow.org/api_docs/python/tf/function for  more details.\n"
     ]
    },
    {
     "name": "stdout",
     "output_type": "stream",
     "text": [
      "\u001b[1m1/1\u001b[0m \u001b[32m━━━━━━━━━━━━━━━━━━━━\u001b[0m\u001b[37m\u001b[0m \u001b[1m0s\u001b[0m 109ms/step\n",
      "Generated Output: [[ 0.05152722  0.03647455 -0.03631733  0.0354719   0.0328705   0.00673495\n",
      "  -0.05764304 -0.10305313  0.06777994 -0.44694117 -0.00714916 -0.17658547\n",
      "   0.04926841 -0.29351205 -0.13206577 -0.14526206 -0.00246806 -0.0755135\n",
      "  -0.07060181 -0.13798474]]\n"
     ]
    }
   ],
   "source": [
    "conditional_input = np.expand_dims(XTest[0], axis=0)\n",
    "latent_vector = np.random.normal(0, 1, (1, latent_dim))\n",
    "generated_output = generator.predict([latent_vector, conditional_input])\n",
    "\n",
    "print(\"Generated Output:\", generated_output[:,:20])"
   ]
  },
  {
   "cell_type": "code",
   "execution_count": 149,
   "id": "497c942b",
   "metadata": {
    "id": "497c942b"
   },
   "outputs": [],
   "source": [
    "decodedInputX = decodeData(latent_vector[0], encodersTest, indeksInstrumenX)\n",
    "decodedOutputY = decodeData(generated_output[0], encodersTest, indeksInstrumenY)\n",
    "decodedInputRealDataX = decodeData(XTest, encodersTest, indeksInstrumenX, indexAt=0)\n",
    "decodedOutputRealDataY = decodeData(YTest, encodersTest, indeksInstrumenY, indexAt=0)"
   ]
  },
  {
   "cell_type": "code",
   "execution_count": 150,
   "id": "1c1d35f6",
   "metadata": {
    "colab": {
     "base_uri": "https://localhost:8080/"
    },
    "id": "1c1d35f6",
    "outputId": "21f7f748-7ebb-4b53-ba59-87f57b252b7f"
   },
   "outputs": [
    {
     "name": "stdout",
     "output_type": "stream",
     "text": [
      "================================================== Latent Vector ==================================================\n",
      "X: [0, 1, 1, 0, 'lagu', 11, 4, '3', '7,', \"2'\", '4']\n",
      "================================================== Data Generator ==================================================\n",
      "Y_kenong: [0, 3, 2, 1, 3, 0, 2, 0]\n",
      "Y_kethuk: [0, 0, 0, 0, 0, 0, 1, 0]\n",
      "Y_kempul: [2, 0, 3, 5]\n",
      "Y_gong: [7, 1]\n",
      "Y_kempyang: [1, 0, 0, 0, 1, 0, 0, 0]\n",
      "Y_bb: [\"6'\", '0', \"5'\", '0', '5', '0', '0', '0', '35_', '0', \"5'\", '0', \"6'\", '0', '3', '0', '7_', '0', '6', '0', '3_', '0', \"1'\", '0', \"5'\", '0', '6', '0', \"5'\", '0', \"3'\", 'nan']\n",
      "Y_bp: [\"1'\", '0', \"5'\", '0', \"1'\", '0', '0', '0', '0', '0', '5_', '0', '0', '0', '0', '0', \"5'\", '0', '0', '0', '5_', '0', '0', '0', \"6'\", '0', '3_', '0', \"1'\", '0', \"1'\", '0', \"1'\", '0', '0', '0', '3', '0', '0', '0', \"5'\", '0', \"2'\", '0', \"3'\", '0', '0', '0', '6', '0', '6', '0', \"3'\", '0', '0', '0', \"2'\", '0', '6', '0', \"6'\", '0', '6', '0']\n",
      "Y_peking: ['5', '0', '3', '0', '6', '0', '5', '0', '1', '0', '5', '0', '1', '0', '2', '0', '1', '0', '5', '0', '2', '0', '2', '0', '3', '0', '2', '0', '5', '0', '2', '0']\n",
      "\n",
      "Data Asli:\n",
      "\n",
      "================================================== Data Asli X ==================================================\n",
      "X: [0, 1, 1, 0, 'lagu', 1, 1, '2', '2', '2', '2']\n",
      "================================================== Data Asli Y ==================================================\n",
      "Y_kenong: [2, 2, 2, 2, 2, 2, 2, 2]\n",
      "Y_kethuk: [1, 0, 1, 0, 1, 0, 1, 0]\n",
      "Y_kempul: [2, 2, 2, 2]\n",
      "Y_gong: [0, 0]\n",
      "Y_kempyang: [0, 0, 0, 0, 0, 0, 0, 0]\n",
      "Y_bb: ['2_', '0', '0', '0', '0', '0', '0', '0', '2_', '0', '0', '0', '0', '0', '0', '0', '2_', '0', '0', '0', '0', '0', '0', '0', '2_', '0', '0', '0', '0', '0', '0', '0.0']\n",
      "Y_bp: ['0', '0', '0', '0', '0', '0', '0', '0', '2_', '0', '0', '0', '0', '0', '0', '0', '0', '0', '0', '0', '2_', '0', '0', '0', '0', '0', '0', '0', '2_', '0', '0', '0', '0', '0', '0', '0', '0', '0', '0', '0', '2_', '0', '0', '0', '0', '0', '0', '0', '0', '0', '0', '0', '2_', '0', '0', '0', '0', '0', '0', '0', '2_', '0', '0', '0']\n",
      "Y_peking: ['3', '0', '0', '0', '2', '0', '0', '0', '3', '0', '0', '0', '2', '0', '0', '0', '3', '0', '0', '0', '2', '0', '0', '0', '3', '0', '0', '0', '2', '0', '0', '0']\n"
     ]
    }
   ],
   "source": [
    "showNotes(decodedInputX, \"Latent Vector\")\n",
    "showNotes(decodedOutputY, \"Data Generator\")\n",
    "print(\"\\nData Asli:\\n\")\n",
    "showNotes(decodedInputRealDataX, \"Data Asli X\")\n",
    "showNotes(decodedOutputRealDataY, \"Data Asli Y\")"
   ]
  },
  {
   "cell_type": "code",
   "execution_count": 151,
   "id": "3d331399-f4f0-44be-9ce7-567db89930d2",
   "metadata": {
    "colab": {
     "base_uri": "https://localhost:8080/"
    },
    "id": "3d331399-f4f0-44be-9ce7-567db89930d2",
    "outputId": "6380f2bb-8817-4d84-9cb7-9f7e87ab43f0"
   },
   "outputs": [
    {
     "name": "stdout",
     "output_type": "stream",
     "text": [
      "Mean Squared Error antara aktual dan generat output: 0.2571568608000015\n",
      "Mean Absolute Error antara aktual dan generat output: 0.33430297280782334\n"
     ]
    }
   ],
   "source": [
    "# target asli dari Y[0]\n",
    "actual_output = YTest[0]\n",
    "mse = mean_squared_error(actual_output, generated_output.flatten())\n",
    "print(\"Mean Squared Error antara aktual dan generat output:\", mse)\n",
    "mae = mean_absolute_error(actual_output, generated_output.flatten())\n",
    "print(\"Mean Absolute Error antara aktual dan generat output:\", mae)"
   ]
  }
 ],
 "metadata": {
  "colab": {
   "provenance": []
  },
  "kernelspec": {
   "display_name": "Python 3 (ipykernel)",
   "language": "python",
   "name": "python3"
  },
  "language_info": {
   "codemirror_mode": {
    "name": "ipython",
    "version": 3
   },
   "file_extension": ".py",
   "mimetype": "text/x-python",
   "name": "python",
   "nbconvert_exporter": "python",
   "pygments_lexer": "ipython3",
   "version": "3.11.9"
  }
 },
 "nbformat": 4,
 "nbformat_minor": 5
}
